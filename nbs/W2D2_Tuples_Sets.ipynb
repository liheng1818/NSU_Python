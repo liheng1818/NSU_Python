{
 "cells": [
  {
   "cell_type": "markdown",
   "metadata": {},
   "source": [
    "# W2D2 - Tuples and Sets\n",
    "\n",
    "Created by: Khue Luu"
   ]
  },
  {
   "cell_type": "markdown",
   "metadata": {},
   "source": [
    "## 1. Tuples"
   ]
  },
  {
   "cell_type": "markdown",
   "metadata": {},
   "source": [
    "- A Python tuple is a sequence of comma separated items, enclosed in parentheses ().\n",
    "- The items in a Python tuple can be of different type, includng another tuple.\n",
    "- Tuple is immutable, you cannot change its values."
   ]
  },
  {
   "cell_type": "markdown",
   "metadata": {},
   "source": [
    "### 1.1. Creating tuples"
   ]
  },
  {
   "cell_type": "code",
   "execution_count": null,
   "metadata": {},
   "outputs": [],
   "source": [
    "my_tuple = (1, 2, 3)\n",
    "my_tuple_without_parentheses = 1, 2, 3\n",
    "empty_tuple = ()\n",
    "single_element_tuple = (42,)\n",
    "my_other_tuple = tuple([1, 2, 3])\n",
    "my_another_other_tuple = (range(5),)\n",
    "\n",
    "print(type(my_tuple))\n",
    "print(type(my_tuple_without_parentheses))\n",
    "print(type(empty_tuple))\n",
    "print(type(single_element_tuple))\n",
    "print(type(my_other_tuple))\n",
    "print(type(my_another_other_tuple))"
   ]
  },
  {
   "cell_type": "code",
   "execution_count": null,
   "metadata": {},
   "outputs": [],
   "source": [
    "# NOTE:\n",
    "not_a_tuple = (1)\n",
    "a_tuple = (1,)\n",
    "\n",
    "print(type(not_a_tuple))\n",
    "print(type(a_tuple))"
   ]
  },
  {
   "cell_type": "markdown",
   "metadata": {},
   "source": [
    "### 1.2. Accessing elements and slicing tuples"
   ]
  },
  {
   "cell_type": "code",
   "execution_count": null,
   "metadata": {},
   "outputs": [],
   "source": [
    "my_tuple = (1, 2, 3)\n",
    "print(my_tuple[0])"
   ]
  },
  {
   "cell_type": "code",
   "execution_count": null,
   "metadata": {},
   "outputs": [],
   "source": [
    "# Exercise\n",
    "my_tuple = (5, 6, 7, 8, 9, 10, 11, 12)\n",
    "\n",
    "print(my_tuple[-2])\n",
    "print(my_tuple[-5:])\n",
    "print(my_tuple[-5:-3])\n",
    "print(my_tuple[::2])"
   ]
  },
  {
   "cell_type": "markdown",
   "metadata": {},
   "source": [
    "### 1.3. Tuple Concatenation & Repetition"
   ]
  },
  {
   "cell_type": "code",
   "execution_count": null,
   "metadata": {},
   "outputs": [],
   "source": [
    "tuple1 = (1, 2, 3)\n",
    "tuple2 = (4, 5, 6)\n",
    "combined_tuple = tuple1 + tuple2\n",
    "\n",
    "print(combined_tuple)"
   ]
  },
  {
   "cell_type": "code",
   "execution_count": null,
   "metadata": {},
   "outputs": [],
   "source": [
    "my_tuple = (\"Привет!\",)\n",
    "repeated_tuple = my_tuple * 3\n",
    "\n",
    "print(repeated_tuple)"
   ]
  },
  {
   "cell_type": "markdown",
   "metadata": {},
   "source": [
    "### 1.4. Tuple membership"
   ]
  },
  {
   "cell_type": "code",
   "execution_count": null,
   "metadata": {},
   "outputs": [],
   "source": [
    "my_tuple = (1, 2, 3)\n",
    "print(3 in my_tuple)"
   ]
  },
  {
   "cell_type": "markdown",
   "metadata": {},
   "source": [
    "### 1.5. Length of a tuple"
   ]
  },
  {
   "cell_type": "code",
   "execution_count": null,
   "metadata": {},
   "outputs": [],
   "source": [
    "my_tuple = (1, 2, 3, 4, 5)\n",
    "length = len(my_tuple)\n",
    "print(length)"
   ]
  },
  {
   "cell_type": "markdown",
   "metadata": {},
   "source": [
    "### 1.6. Iterate through a tuple"
   ]
  },
  {
   "cell_type": "code",
   "execution_count": null,
   "metadata": {},
   "outputs": [],
   "source": [
    "my_tuple = (\"I\", \"love\", \"Python\", \"programing\")\n",
    "for item in my_tuple:\n",
    "    print(item)"
   ]
  },
  {
   "cell_type": "markdown",
   "metadata": {},
   "source": [
    "### 1.7. Tuple unpacking"
   ]
  },
  {
   "cell_type": "code",
   "execution_count": null,
   "metadata": {},
   "outputs": [],
   "source": [
    "point = (3, 4)\n",
    "x, y = point  # Unpacking the tuple\n",
    "\n",
    "print(x)\n",
    "print(y)"
   ]
  },
  {
   "cell_type": "code",
   "execution_count": null,
   "metadata": {},
   "outputs": [],
   "source": [
    "tup1 = (10,20,30, 40, 50, 60)\n",
    "x, *y, z = tup1\n",
    "print (\"x: \",x, \"y: \", y, \"z: \", z)"
   ]
  },
  {
   "cell_type": "markdown",
   "metadata": {},
   "source": [
    "### 1.8. Tuple methods"
   ]
  },
  {
   "cell_type": "code",
   "execution_count": null,
   "metadata": {},
   "outputs": [],
   "source": [
    "my_tuple = (1, 2, 2, 3, 4)\n",
    "count = my_tuple.count(2)  # Output: 2\n",
    "index = my_tuple.index(3)  # Output: 3\n",
    "\n",
    "print(count)\n",
    "print(index)"
   ]
  },
  {
   "cell_type": "code",
   "execution_count": null,
   "metadata": {},
   "outputs": [],
   "source": [
    "# Exercise\n",
    "my_singers = (\"Taylor Swift\", \"Lisa\", \"Jisoo\", \"Rose\", \"Jenni\")\n",
    "a, *b = my_singers\n",
    "print(b)\n",
    "\n",
    "index_of_jisoo = None\n",
    "print(\"Index of Jisoo:\", index_of_jisoo)"
   ]
  },
  {
   "cell_type": "markdown",
   "metadata": {},
   "source": [
    "## 2. Sets"
   ]
  },
  {
   "cell_type": "markdown",
   "metadata": {},
   "source": [
    "Sets in Python are unordered collections of unique elements. They are a fundamental data structure in Python and are defined by enclosing a comma-separated sequence of elements within curly braces `{}` or by using the `set()` constructor.\n",
    "\n",
    "1. **Creating Sets**:\n",
    "   You can create a set by enclosing elements in curly braces or by using the `set()` constructor:\n",
    "\n",
    "   ```python\n",
    "   my_set = {1, 2, 3}\n",
    "   empty_set = set()\n",
    "   ```\n",
    "\n",
    "2. **Uniqueness**:\n",
    "   Sets only allow unique elements. If you try to add duplicate elements, they will be ignored:\n",
    "\n",
    "   ```python\n",
    "   my_set = {1, 2, 2, 3}\n",
    "   print(my_set)  # Output: {1, 2, 3}\n",
    "   ```\n",
    "\n",
    "3. **Adding Elements**:\n",
    "   You can add elements to a set using the `add()` method:\n",
    "\n",
    "   ```python\n",
    "   my_set = {1, 2, 3}\n",
    "   my_set.add(4)\n",
    "   ```\n",
    "\n",
    "4. **Removing Elements**:\n",
    "   You can remove elements from a set using the `remove()` or `discard()` methods. The difference is that `remove()` raises a KeyError if the element is not found, while `discard()` does nothing:\n",
    "\n",
    "   ```python\n",
    "   my_set = {1, 2, 3}\n",
    "   my_set.remove(2)\n",
    "   ```\n",
    "\n",
    "5. **Checking for Existence**:\n",
    "   You can check if an element exists in a set using the `in` keyword:\n",
    "\n",
    "   ```python\n",
    "   my_set = {1, 2, 3}\n",
    "   print(2 in my_set)  # Output: True\n",
    "   ```\n",
    "\n",
    "6. **Set Operations**:\n",
    "   Sets support various set operations, including union (`|`), intersection (`&`), difference (`-`), and symmetric difference (`^`). These operations allow you to combine or compare sets:\n",
    "\n",
    "   ```python\n",
    "   set1 = {1, 2, 3}\n",
    "   set2 = {3, 4, 5}\n",
    "   \n",
    "   union_set = set1 | set2         # Union: {1, 2, 3, 4, 5}\n",
    "   intersection_set = set1 & set2  # Intersection: {3}\n",
    "   difference_set = set1 - set2    # Difference: {1, 2}\n",
    "   symmetric_diff_set = set1 ^ set2  # Symmetric Difference: {1, 2, 4, 5}\n",
    "   ```\n",
    "\n",
    "7. **Set Methods**:\n",
    "   Sets have various methods for performing common operations, including `union()`, `intersection()`, `difference()`, `symmetric_difference()`, and others.\n",
    "\n",
    "   ```python\n",
    "   set1 = {1, 2, 3}\n",
    "   set2 = {3, 4, 5}\n",
    "   \n",
    "   union_set = set1.union(set2)\n",
    "   intersection_set = set1.intersection(set2)\n",
    "   difference_set = set1.difference(set2)\n",
    "   symmetric_diff_set = set1.symmetric_difference(set2)\n",
    "   ```\n",
    "\n",
    "8. **Set Size**:\n",
    "   You can find the number of elements in a set using the `len()` function:\n",
    "\n",
    "   ```python\n",
    "   my_set = {1, 2, 3}\n",
    "   size = len(my_set)  # Output: 3\n",
    "   ```\n",
    "\n",
    "9. **Iterating Over Sets**:\n",
    "   You can iterate over the elements of a set using a `for` loop:\n",
    "\n",
    "   ```python\n",
    "   my_set = {1, 2, 3}\n",
    "   for item in my_set:\n",
    "       print(item)\n",
    "   ```\n",
    "\n",
    "10. **Frozen Sets**:\n",
    "    Python also provides a data structure called a \"frozen set,\" which is like a set but immutable. Frozen sets can be used as elements of other sets, allowing you to create nested sets.\n",
    "\n",
    "   ```python\n",
    "   frozen_set = frozenset([1, 2, 3])\n",
    "   ```\n",
    "\n",
    "11. **When to Use Sets**:\n",
    "    Sets are useful when you need to store a collection of unique elements, such as removing duplicates from a list, checking for the presence of specific items, or performing set operations like union and intersection."
   ]
  },
  {
   "cell_type": "markdown",
   "metadata": {},
   "source": []
  }
 ],
 "metadata": {
  "kernelspec": {
   "display_name": "Python 3",
   "language": "python",
   "name": "python3"
  },
  "language_info": {
   "codemirror_mode": {
    "name": "ipython",
    "version": 3
   },
   "file_extension": ".py",
   "mimetype": "text/x-python",
   "name": "python",
   "nbconvert_exporter": "python",
   "pygments_lexer": "ipython3",
   "version": "3.9.6"
  },
  "orig_nbformat": 4
 },
 "nbformat": 4,
 "nbformat_minor": 2
}
