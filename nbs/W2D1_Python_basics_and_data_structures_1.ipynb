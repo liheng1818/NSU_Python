{
 "cells": [
  {
   "cell_type": "markdown",
   "metadata": {},
   "source": [
    "# W2D1 - Python basics and Data Structures I"
   ]
  },
  {
   "cell_type": "markdown",
   "metadata": {},
   "source": [
    "## 1. Python basics"
   ]
  },
  {
   "cell_type": "markdown",
   "metadata": {},
   "source": [
    "## 2. List"
   ]
  },
  {
   "cell_type": "markdown",
   "metadata": {},
   "source": [
    "#### 2.1. Definition"
   ]
  },
  {
   "cell_type": "markdown",
   "metadata": {},
   "source": [
    "- A list in Python is an ordered collection of items or elements.\n",
    "- Lists are versatile and can contain elements of different data types, including integers, floats, strings, booleans, and even other lists.\n",
    "- List index starts from 0.\n",
    "- Lists in Python are mutable, meaning you can change their contents by adding, removing, or modifying elements."
   ]
  },
  {
   "cell_type": "markdown",
   "metadata": {},
   "source": [
    "#### 2.2. List creation"
   ]
  },
  {
   "cell_type": "markdown",
   "metadata": {},
   "source": [
    "- Lists are created by enclosing elements in square brackets [ ], separated by commas."
   ]
  },
  {
   "cell_type": "code",
   "execution_count": 1,
   "metadata": {},
   "outputs": [
    {
     "data": {
      "text/plain": [
       "list"
      ]
     },
     "execution_count": 1,
     "metadata": {},
     "output_type": "execute_result"
    }
   ],
   "source": [
    "mylist = [1, \"a\", True, 0.5, [6,7], {\"key\": \"value\"}]\n",
    "type(mylist)"
   ]
  },
  {
   "cell_type": "code",
   "execution_count": 91,
   "metadata": {},
   "outputs": [
    {
     "data": {
      "text/plain": [
       "list"
      ]
     },
     "execution_count": 91,
     "metadata": {},
     "output_type": "execute_result"
    }
   ],
   "source": [
    "mylist = list((3,4,5))\n",
    "type(mylist)"
   ]
  },
  {
   "cell_type": "markdown",
   "metadata": {},
   "source": [
    "#### 2.3. List Length"
   ]
  },
  {
   "cell_type": "code",
   "execution_count": 2,
   "metadata": {},
   "outputs": [
    {
     "data": {
      "text/plain": [
       "6"
      ]
     },
     "execution_count": 2,
     "metadata": {},
     "output_type": "execute_result"
    }
   ],
   "source": [
    "mylist = [1, \"a\", True, 0.5, [6,7], {\"key\": \"value\"}]\n",
    "len(mylist)"
   ]
  },
  {
   "cell_type": "markdown",
   "metadata": {},
   "source": [
    "#### 2.4. List Membership"
   ]
  },
  {
   "cell_type": "markdown",
   "metadata": {},
   "source": [
    "- You can check if an element is present in a list using the `in` keyword."
   ]
  },
  {
   "cell_type": "code",
   "execution_count": 62,
   "metadata": {},
   "outputs": [
    {
     "data": {
      "text/plain": [
       "True"
      ]
     },
     "execution_count": 62,
     "metadata": {},
     "output_type": "execute_result"
    }
   ],
   "source": [
    "mylist = [1, \"a\", True, 0.5, [6,7], {\"key\": \"value\"}]\n",
    "\"a\" in mylist"
   ]
  },
  {
   "cell_type": "markdown",
   "metadata": {},
   "source": [
    "#### 2.5. Common List Functions"
   ]
  },
  {
   "cell_type": "markdown",
   "metadata": {},
   "source": [
    "- Python provides built-in functions like `min()`, `max()`, and `sum()` for working with lists"
   ]
  },
  {
   "cell_type": "code",
   "execution_count": 19,
   "metadata": {},
   "outputs": [
    {
     "name": "stdout",
     "output_type": "stream",
     "text": [
      "Min: 1\n",
      "Max: 5\n",
      "Sum: 15\n"
     ]
    }
   ],
   "source": [
    "mylist = [1,2,3,4,5]\n",
    "print(\"Min:\", min(mylist))\n",
    "print(\"Max:\", max(mylist))\n",
    "print(\"Sum:\", min(mylist))"
   ]
  },
  {
   "cell_type": "markdown",
   "metadata": {},
   "source": [
    "#### 2.6. Accessing List Elements"
   ]
  },
  {
   "cell_type": "markdown",
   "metadata": {},
   "source": [
    "- You can access elements in a list using indexing. Indexing starts at 0 for the first element.\n",
    "- Negative Indexing begins from the end of the list"
   ]
  },
  {
   "cell_type": "code",
   "execution_count": 27,
   "metadata": {},
   "outputs": [
    {
     "name": "stdout",
     "output_type": "stream",
     "text": [
      "First element: 1\n",
      "Last element:  {'key': 'value'}\n"
     ]
    }
   ],
   "source": [
    "mylist = [1, \"a\", True, 0.5, [6,7], {\"key\": \"value\"}]\n",
    "print(\"First element:\", mylist[0])\n",
    "print(\"Last element: \", mylist[-1])"
   ]
  },
  {
   "cell_type": "markdown",
   "metadata": {},
   "source": [
    "- Changing list element"
   ]
  },
  {
   "cell_type": "code",
   "execution_count": 61,
   "metadata": {},
   "outputs": [
    {
     "data": {
      "text/plain": [
       "[100, 'a', True, 0.5, [6, 7], {'key': 'value'}]"
      ]
     },
     "execution_count": 61,
     "metadata": {},
     "output_type": "execute_result"
    }
   ],
   "source": [
    "mylist = [1, \"a\", True, 0.5, [6,7], {\"key\": \"value\"}]\n",
    "mylist[0] = 100\n",
    "mylist"
   ]
  },
  {
   "cell_type": "markdown",
   "metadata": {},
   "source": [
    "#### 2.7. List Slicing"
   ]
  },
  {
   "cell_type": "markdown",
   "metadata": {},
   "source": [
    "- slicing from the beginning to index stop-1: `list[:stop]`\n",
    "- slicing from index start to the end: `list[start:]`\n",
    "- slicing from index start to index stop-1: `list[start:stop]`\n",
    "- slicing from the index start to index stop, by skipping step: `list[start:stop:step]`"
   ]
  },
  {
   "cell_type": "code",
   "execution_count": 36,
   "metadata": {},
   "outputs": [
    {
     "data": {
      "text/plain": [
       "[2, 4, 6, 8]"
      ]
     },
     "execution_count": 36,
     "metadata": {},
     "output_type": "execute_result"
    }
   ],
   "source": [
    "mylist = [1, 2, 3, 4, 5, 6, 7, 8, 9, 10, 11, 12]\n",
    "mylist[1:9:2]"
   ]
  },
  {
   "cell_type": "markdown",
   "metadata": {},
   "source": [
    "**EXCERCISE**\n",
    "\n",
    "Given a list containing data of a student `data = [\"Ana\", \"female\", 160, 50, 5, 4, 4, \"Novosibirsk\", \"MMF\"]`.\n",
    "1. Print the student's name, which is the first element of the list\n",
    "2. Print the student's hometown and faculty, which are the last two elements of the list.\n",
    "3. Use list slicing to get the student's height and weight, which are the number 160 and 50.\n",
    "4. Use list slicing to get this sub list: `[\"female\", 50, 4, \"Novosibirsk\"]`"
   ]
  },
  {
   "cell_type": "code",
   "execution_count": 59,
   "metadata": {},
   "outputs": [
    {
     "name": "stdout",
     "output_type": "stream",
     "text": [
      "The student's name:  None\n",
      "The student's hometown and faculty:  None\n",
      "The student's height and weight:  None\n",
      "Sub list:  None\n"
     ]
    }
   ],
   "source": [
    "data = [\"Ana\", \"female\", 160, 50, 5, 4, 4, \"Novosibirsk\", \"MMF\"]\n",
    "\n",
    "q1 = None # YOUR CODE\n",
    "q2 = None # YOUR CODE\n",
    "q3 = None # YOUR CODE\n",
    "q4 = None # YOUR CODE\n",
    "\n",
    "print(\"The student's name: \", q1)\n",
    "print(\"The student's hometown and faculty: \", q2)\n",
    "print(\"The student's height and weight: \", q3)\n",
    "print(\"Sub list: \", q4)"
   ]
  },
  {
   "cell_type": "markdown",
   "metadata": {},
   "source": [
    "#### 2.8. Sorting lists"
   ]
  },
  {
   "cell_type": "markdown",
   "metadata": {},
   "source": [
    "Sorting lists in Python is a common operation that arranges the elements of a list in a particular order, such as ascending or descending. Python provides several methods and functions to sort lists."
   ]
  },
  {
   "cell_type": "markdown",
   "metadata": {},
   "source": [
    "**sorted()**"
   ]
  },
  {
   "cell_type": "markdown",
   "metadata": {},
   "source": [
    "It returns a new sorted list and leaves the original list unchanged.\n",
    "Input of this function is any iterable"
   ]
  },
  {
   "cell_type": "code",
   "execution_count": 100,
   "metadata": {},
   "outputs": [
    {
     "name": "stdout",
     "output_type": "stream",
     "text": [
      "Original list:  [4, 3, 5, 2, 1, 6]\n",
      "Sorted list:  [1, 2, 3, 4, 5, 6]\n"
     ]
    }
   ],
   "source": [
    "mylist = [4, 3, 5, 2, 1, 6]\n",
    "sorted_list = sorted(mylist)\n",
    "print(\"Original list: \", mylist)\n",
    "print(\"Sorted list: \", sorted_list)"
   ]
  },
  {
   "cell_type": "markdown",
   "metadata": {},
   "source": [
    "Sorted() in descending order"
   ]
  },
  {
   "cell_type": "code",
   "execution_count": 112,
   "metadata": {},
   "outputs": [
    {
     "name": "stdout",
     "output_type": "stream",
     "text": [
      "Original list:  [4, 3, 5, 2, 1, 6]\n",
      "Sorted list:  [6, 5, 4, 3, 2, 1]\n"
     ]
    }
   ],
   "source": [
    "mylist = [4, 3, 5, 2, 1, 6]\n",
    "sorted_list = sorted(mylist, reverse=True)\n",
    "print(\"Original list: \", mylist)\n",
    "print(\"Sorted list: \", sorted_list)"
   ]
  },
  {
   "cell_type": "markdown",
   "metadata": {},
   "source": [
    "**list.sort()**\n",
    "\n",
    "- Lists in Python have a built-in sort() method, which sorts the list in place (i.e., it modifies the original list) and arranges elements in ascending order by default."
   ]
  },
  {
   "cell_type": "code",
   "execution_count": 107,
   "metadata": {},
   "outputs": [
    {
     "name": "stdout",
     "output_type": "stream",
     "text": [
      "[1, 2, 3, 4, 5, 6.0]\n"
     ]
    }
   ],
   "source": [
    "mylist = [4, 3, 5, 2, 1, 6]\n",
    "mylist.sort()\n",
    "print(mylist)"
   ]
  },
  {
   "cell_type": "markdown",
   "metadata": {},
   "source": [
    "- Sort in descending order"
   ]
  },
  {
   "cell_type": "code",
   "execution_count": 106,
   "metadata": {},
   "outputs": [
    {
     "name": "stdout",
     "output_type": "stream",
     "text": [
      "['d', 'c', 'b', 'a']\n"
     ]
    }
   ],
   "source": [
    "mylist = [\"a\", \"c\", \"d\", \"b\"]\n",
    "mylist.sort(reverse=True)\n",
    "print(mylist)"
   ]
  },
  {
   "cell_type": "markdown",
   "metadata": {},
   "source": [
    "**Sorting Lists of Custom Objects**"
   ]
  },
  {
   "cell_type": "code",
   "execution_count": 114,
   "metadata": {},
   "outputs": [
    {
     "data": {
      "text/plain": [
       "[['Bob', 25], ['Alice', 30], ['Charlie', 35]]"
      ]
     },
     "execution_count": 114,
     "metadata": {},
     "output_type": "execute_result"
    }
   ],
   "source": [
    "employees = [\n",
    "    ['Alice', 30],\n",
    "    ['Bob', 25],\n",
    "    ['Charlie', 35]\n",
    "]\n",
    "sorted_employees = sorted(employees, key=lambda x: x[1])\n",
    "sorted_employees"
   ]
  },
  {
   "cell_type": "markdown",
   "metadata": {},
   "source": [
    "**Sorting with operator.itemgetter()**"
   ]
  },
  {
   "cell_type": "code",
   "execution_count": 115,
   "metadata": {},
   "outputs": [
    {
     "data": {
      "text/plain": [
       "[['Bob', 25], ['Alice', 30], ['Charlie', 35]]"
      ]
     },
     "execution_count": 115,
     "metadata": {},
     "output_type": "execute_result"
    }
   ],
   "source": [
    "from operator import itemgetter\n",
    "\n",
    "employees = [\n",
    "    ['Alice', 30],\n",
    "    ['Bob', 25],\n",
    "    ['Charlie', 35]\n",
    "]\n",
    "sorted_employees = sorted(employees, key=itemgetter(1))\n",
    "sorted_employees"
   ]
  },
  {
   "cell_type": "markdown",
   "metadata": {},
   "source": [
    "**EXERCISE**"
   ]
  },
  {
   "cell_type": "code",
   "execution_count": 133,
   "metadata": {},
   "outputs": [
    {
     "name": "stdout",
     "output_type": "stream",
     "text": [
      "Sorted fruits:  [['Apple', 10, 99], ['Orange', 4, 250], ['Banana', 20, 120]]\n",
      "Sorted fruits by cost:  None\n"
     ]
    }
   ],
   "source": [
    "fruits = [\n",
    "    [\"Apple\", 10, 99], # name, quantity in kg, unit price\n",
    "    [\"Orange\", 4, 250],\n",
    "    [\"Banana\", 20, 120]\n",
    "]\n",
    "\n",
    "# Sort fruits by unit price from high to low\n",
    "sorted_fruits = None # YOUR CODE\n",
    "print(\"Sorted fruits: \", sorted_fruits)\n",
    "\n",
    "# Sort fruits by the total cost (quantity x unit price) from highest to lowest\n",
    "sorted_fruits_by_cost = None # YOUR CODE\n",
    "print(\"Sorted fruits by cost: \", sorted_fruits_by_cost)"
   ]
  },
  {
   "cell_type": "markdown",
   "metadata": {},
   "source": [
    "#### 2.9. List methods"
   ]
  },
  {
   "cell_type": "markdown",
   "metadata": {},
   "source": [
    "**append(item)**\n",
    "\n",
    "Adds an element to the end of the list."
   ]
  },
  {
   "cell_type": "code",
   "execution_count": 135,
   "metadata": {},
   "outputs": [
    {
     "name": "stdout",
     "output_type": "stream",
     "text": [
      "[1, 2, 3, 4, 5]\n"
     ]
    }
   ],
   "source": [
    "mylist = [1,2,3,4]\n",
    "mylist.append(5)\n",
    "print(mylist)"
   ]
  },
  {
   "cell_type": "markdown",
   "metadata": {},
   "source": [
    "**insert(index, item)**\n",
    "\n",
    "Inserts an element at a specified position in the list."
   ]
  },
  {
   "cell_type": "code",
   "execution_count": 138,
   "metadata": {},
   "outputs": [
    {
     "name": "stdout",
     "output_type": "stream",
     "text": [
      "[1, 'new', 2, 3, 4]\n"
     ]
    }
   ],
   "source": [
    "mylist = [1,2,3,4]\n",
    "mylist.insert(1, \"new\") # Insert to index 1 the word \"new\"\n",
    "print(mylist)"
   ]
  },
  {
   "cell_type": "markdown",
   "metadata": {},
   "source": [
    "**extend(iterable)**\n",
    "\n",
    "Appends elements from an iterable (e.g., another list) to the end of the list."
   ]
  },
  {
   "cell_type": "code",
   "execution_count": 143,
   "metadata": {},
   "outputs": [
    {
     "name": "stdout",
     "output_type": "stream",
     "text": [
      "[1, 2, 3, 4, 5, 6, 7]\n"
     ]
    }
   ],
   "source": [
    "mylist = [1,2,3,4]\n",
    "another_list = [5,6,7]\n",
    "mylist.extend(another_list)\n",
    "print(mylist)"
   ]
  },
  {
   "cell_type": "markdown",
   "metadata": {},
   "source": [
    "**pop([index])**\n",
    "\n",
    "Removes and returns the element at the specified index. If no index is provided, it removes and returns the last element."
   ]
  },
  {
   "cell_type": "code",
   "execution_count": 148,
   "metadata": {},
   "outputs": [
    {
     "name": "stdout",
     "output_type": "stream",
     "text": [
      "[1, 2, 4] 3\n"
     ]
    }
   ],
   "source": [
    "mylist = [1,2,3,4]\n",
    "pop_item = mylist.pop(-2)\n",
    "print(mylist, pop_item)"
   ]
  },
  {
   "cell_type": "markdown",
   "metadata": {},
   "source": [
    "**remove(item)**\n",
    "\n",
    "Removes the first occurrence of the specified item from the list.\n",
    "If the item is not on the list, `ValueError`."
   ]
  },
  {
   "cell_type": "code",
   "execution_count": 153,
   "metadata": {},
   "outputs": [
    {
     "name": "stdout",
     "output_type": "stream",
     "text": [
      "[1, 2, 3, 4, 5, 6, 7, 8]\n"
     ]
    }
   ],
   "source": [
    "mylist = [1,2,\"2\",3,4,5,6,7,8]\n",
    "mylist.remove(\"2\")\n",
    "print(mylist)"
   ]
  },
  {
   "cell_type": "markdown",
   "metadata": {},
   "source": [
    "**count(item)**\n",
    "\n",
    "Returns the number of times the specified item appears in the list."
   ]
  },
  {
   "cell_type": "code",
   "execution_count": 159,
   "metadata": {},
   "outputs": [
    {
     "name": "stdout",
     "output_type": "stream",
     "text": [
      "4\n"
     ]
    }
   ],
   "source": [
    "mylist = [2,2,2,2,3,2,2,2,2,2,2,2,2,3,2,2,2,3,2,2,3,2,2,2,2,2,2,2,2]\n",
    "mycount = mylist.count(3)\n",
    "print(mycount)"
   ]
  },
  {
   "cell_type": "markdown",
   "metadata": {},
   "source": [
    "**index(item[, start[, end]])**\n",
    "\n",
    "Returns the index of the first occurrence of the specified item in the list. You can specify optional start and end parameters to search within a specific range.\n",
    "If the item is not on the list, `ValueError`"
   ]
  },
  {
   "cell_type": "code",
   "execution_count": 164,
   "metadata": {},
   "outputs": [
    {
     "name": "stdout",
     "output_type": "stream",
     "text": [
      "13\n"
     ]
    }
   ],
   "source": [
    "mylist = [2,2,2,2,3,2,2,2,2,2,2,2,2,3,2,2,2,3,2,2,3,2,2,2,2,2,2,2,2]\n",
    "first_3_index = mylist.index(3, 10, 20)\n",
    "print(first_3_index)"
   ]
  },
  {
   "cell_type": "markdown",
   "metadata": {},
   "source": [
    "**EXERCISE**"
   ]
  },
  {
   "cell_type": "code",
   "execution_count": 171,
   "metadata": {},
   "outputs": [
    {
     "data": {
      "text/plain": [
       "1"
      ]
     },
     "execution_count": 171,
     "metadata": {},
     "output_type": "execute_result"
    }
   ],
   "source": [
    "list1= [23, 45, 13, 17, 19, 31, 46, 29, 37, 61]\n",
    "\n",
    "# Add 100 to the 3th index of the list\n",
    "# Remove all 13 and 45 from the list\n",
    "# Pop the last item\n",
    "# What is the index of 17 now?\n"
   ]
  },
  {
   "cell_type": "markdown",
   "metadata": {},
   "source": [
    "#### 2.10. List Comprehension"
   ]
  },
  {
   "cell_type": "markdown",
   "metadata": {},
   "source": [
    "List comprehensions are a concise and efficient way to create lists in Python. They allow you to generate new lists by applying an expression to each item in an existing iterable (such as a list, tuple, or range) and optionally filtering the items based on a condition.\n",
    "\n",
    "**Benefits**\n",
    "\n",
    "- Conciseness: List comprehensions reduce the need for explicit loops, resulting in more concise and readable code.\n",
    "- Readability: They express the intention of the code in a clear and direct manner.\n",
    "- Immutability: List comprehensions create new lists, leaving the original data unchanged.\n",
    "\n",
    "**Basic Syntax**\n",
    "\n",
    "`new_list = [expression for item in iterable]`\n",
    "\n",
    "- iterable: an iterable data source, which can be a list, a set, a sequence, or even a function that returns a set of data, for example,range()\n",
    "- item: element to be retrieved from the data source\n",
    "- expression: an expression that returns some value. This value then goes into the generated list"
   ]
  },
  {
   "cell_type": "markdown",
   "metadata": {},
   "source": [
    "- Creating a list from another list"
   ]
  },
  {
   "cell_type": "code",
   "execution_count": 69,
   "metadata": {},
   "outputs": [
    {
     "name": "stdout",
     "output_type": "stream",
     "text": [
      "[1, 4, 9, 16, 25]\n"
     ]
    }
   ],
   "source": [
    "mylist = [1, 2, 3, 4, 5]\n",
    "new_list = [x**2 for x in mylist]\n",
    "print(new_list)"
   ]
  },
  {
   "cell_type": "markdown",
   "metadata": {},
   "source": [
    "- You can apply functions to items within a list comprehension"
   ]
  },
  {
   "cell_type": "code",
   "execution_count": 79,
   "metadata": {},
   "outputs": [
    {
     "name": "stdout",
     "output_type": "stream",
     "text": [
      "['1', '2', '3', '4', '5']\n"
     ]
    }
   ],
   "source": [
    "mylist = [1, 2, 3, 4, 5]\n",
    "new_list = [str(x) for x in mylist]\n",
    "print(new_list)"
   ]
  },
  {
   "cell_type": "markdown",
   "metadata": {},
   "source": [
    "- Creating a list from another list with values being conditioned -> new list has the same length as the original one"
   ]
  },
  {
   "cell_type": "code",
   "execution_count": 71,
   "metadata": {},
   "outputs": [
    {
     "data": {
      "text/plain": [
       "['pass',\n",
       " 'pass',\n",
       " 'fail',\n",
       " 'pass',\n",
       " 'pass',\n",
       " 'pass',\n",
       " 'pass',\n",
       " 'pass',\n",
       " 'pass',\n",
       " 'fail']"
      ]
     },
     "execution_count": 71,
     "metadata": {},
     "output_type": "execute_result"
    }
   ],
   "source": [
    "grades = [4.0, 5.0, 2.5, 4.5, 3.75, 4.75, 3.5, 5, 3.0, 2.75]\n",
    "results = [\"pass\" if grade >= 3.0 else \"fail\" for grade in grades]\n",
    "results"
   ]
  },
  {
   "cell_type": "markdown",
   "metadata": {},
   "source": [
    "- Filtering with Conditionals -> new list might not have the same length with the original one."
   ]
  },
  {
   "cell_type": "code",
   "execution_count": 74,
   "metadata": {},
   "outputs": [
    {
     "data": {
      "text/plain": [
       "[14, 18, 13]"
      ]
     },
     "execution_count": 74,
     "metadata": {},
     "output_type": "execute_result"
    }
   ],
   "source": [
    "ages = [14, 18, 21, 35, 28, 40, 13, 22]\n",
    "teenagers = [age for age in ages if age <= 19]\n",
    "teenagers"
   ]
  },
  {
   "cell_type": "markdown",
   "metadata": {},
   "source": [
    "**Nested List Comprehensions**"
   ]
  },
  {
   "cell_type": "code",
   "execution_count": 83,
   "metadata": {},
   "outputs": [
    {
     "data": {
      "text/plain": [
       "[1, 2, 3, 4, 5, 6, 7, 8, 9]"
      ]
     },
     "execution_count": 83,
     "metadata": {},
     "output_type": "execute_result"
    }
   ],
   "source": [
    "# 2D matrix\n",
    "matrix = [\n",
    "    [1, 2, 3],\n",
    "    [4, 5, 6],\n",
    "    [7, 8, 9]\n",
    "]\n",
    "flattened = [num for row in matrix for num in row]  # [1, 2, 3, 4, 5, 6, 7, 8, 9]\n",
    "flattened"
   ]
  },
  {
   "cell_type": "code",
   "execution_count": 82,
   "metadata": {},
   "outputs": [
    {
     "data": {
      "text/plain": [
       "[1, 2, 3, 4, 5, 6, 7, 8, 9]"
      ]
     },
     "execution_count": 82,
     "metadata": {},
     "output_type": "execute_result"
    }
   ],
   "source": [
    "# 3D matrix\n",
    "matrix = [\n",
    "    [[1], [2], [3]],\n",
    "    [[4], [5], [6]],\n",
    "    [[7], [8], [9]]\n",
    "]\n",
    "flattened = [num for row in matrix for arr in row for num in arr]  # [1, 2, 3, 4, 5, 6, 7, 8, 9]\n",
    "flattened"
   ]
  },
  {
   "cell_type": "markdown",
   "metadata": {},
   "source": [
    "**When I do not use list comprehension? (my experience)**\n",
    "\n",
    "- When I do not want to create a new list\n",
    "- When I want to use `break` or `continue` in the loop\n",
    "- When the logic is too long\n",
    "- When using list comprehension reduce readability"
   ]
  },
  {
   "cell_type": "markdown",
   "metadata": {},
   "source": [
    "**EXERCISE**"
   ]
  },
  {
   "cell_type": "code",
   "execution_count": 93,
   "metadata": {},
   "outputs": [
    {
     "name": "stdout",
     "output_type": "stream",
     "text": [
      "Long words:  ['welcome', 'Python', 'programming', 'course']\n"
     ]
    }
   ],
   "source": [
    "words = [\"hello\", \"welcome\", \"to\", \"Python\", \"programming\", \"course\"]\n",
    "\n",
    "# Using list comprehension to get a list of words that contain more than 5 characters\n",
    "long_words = None # YOUR CODE\n",
    "print(\"Long words: \", long_words)"
   ]
  },
  {
   "cell_type": "code",
   "execution_count": 86,
   "metadata": {},
   "outputs": [
    {
     "name": "stdout",
     "output_type": "stream",
     "text": [
      "Even numbers: None\n"
     ]
    }
   ],
   "source": [
    "matrix = [\n",
    "    [[1], [2], [3]],\n",
    "    [[4], [5], [6]],\n",
    "    [[7], [8], [9]]\n",
    "]\n",
    "\n",
    "# Get all items that are even numbers\n",
    "even = None # YOUR CODE\n",
    "print(\"Even numbers:\", even)"
   ]
  },
  {
   "cell_type": "markdown",
   "metadata": {},
   "source": [
    "## 3. Tuples and Sets"
   ]
  },
  {
   "cell_type": "markdown",
   "metadata": {},
   "source": []
  }
 ],
 "metadata": {
  "kernelspec": {
   "display_name": "Python 3",
   "language": "python",
   "name": "python3"
  },
  "language_info": {
   "codemirror_mode": {
    "name": "ipython",
    "version": 3
   },
   "file_extension": ".py",
   "mimetype": "text/x-python",
   "name": "python",
   "nbconvert_exporter": "python",
   "pygments_lexer": "ipython3",
   "version": "3.9.6"
  },
  "orig_nbformat": 4
 },
 "nbformat": 4,
 "nbformat_minor": 2
}
