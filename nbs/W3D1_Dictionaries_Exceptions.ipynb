{
 "cells": [
  {
   "cell_type": "markdown",
   "metadata": {},
   "source": [
    "# 1. Dictionaries"
   ]
  },
  {
   "cell_type": "markdown",
   "metadata": {},
   "source": [
    "A Python dictionary is a built-in data structure that stores a collection of key-value pairs. It is also known as a \"dict\" in Python and is implemented as a hash table. Dictionaries are widely used in Python for various purposes due to their efficiency in storing and retrieving data.\n",
    "\n",
    "1. **Key-Value Pairs**: A dictionary consists of key-value pairs. Each key is unique within a dictionary, and it maps to a specific value. Keys are typically strings or numbers, while values can be of any data type, including numbers, strings, lists, other dictionaries, or even user-defined objects.\n",
    "\n",
    "2. **Creating a Dictionary**: You can create a dictionary using curly braces `{}` and specifying key-value pairs separated by colons `:`. Here's an example:\n",
    "\n",
    "   ```python\n",
    "   my_dict = {'name': 'John', 'age': 30, 'city': 'New York'}\n",
    "   ```\n",
    "\n",
    "3. **Accessing Values**: You can access the values in a dictionary by using square brackets `[]` and providing the key. For example:\n",
    "\n",
    "   ```python\n",
    "   print(my_dict['name'])  # Output: 'John'\n",
    "   ```\n",
    "\n",
    "   It's important to note that if you try to access a key that doesn't exist, it will raise a `KeyError`.\n",
    "\n",
    "4. **Modifying Values**: You can change the value associated with a key by assigning a new value to that key:\n",
    "\n",
    "   ```python\n",
    "   my_dict['age'] = 31\n",
    "   ```\n",
    "\n",
    "5. **Adding New Key-Value Pairs**: You can add new key-value pairs to a dictionary by simply assigning a value to a new key:\n",
    "\n",
    "   ```python\n",
    "   my_dict['gender'] = 'Male'\n",
    "   ```\n",
    "\n",
    "6. **Removing Key-Value Pairs**: You can remove a key-value pair from a dictionary using the `del` statement or the `pop()` method:\n",
    "\n",
    "   ```python\n",
    "   del my_dict['city']  # Removes the 'city' key-value pair\n",
    "   popped_value = my_dict.pop('age')  # Removes the 'age' key-value pair and returns the value\n",
    "   ```\n",
    "\n",
    "7. **Checking for Key Existence**: You can check if a key exists in a dictionary using the `in` keyword:\n",
    "\n",
    "   ```python\n",
    "   if 'name' in my_dict:\n",
    "       print(\"Name exists in the dictionary.\")\n",
    "   ```\n",
    "\n",
    "8. **Dictionary Methods**:\n",
    "   - `keys()`: Returns a list of all the keys in the dictionary.\n",
    "   - `values()`: Returns a list of all the values in the dictionary.\n",
    "   - `items()`: Returns a list of key-value pairs as tuples.\n",
    "   - `get(key, default)`: Returns the value for a given key, or a default value if the key is not found.\n",
    "   - `clear()`: Removes all key-value pairs from the dictionary.\n",
    "   - `copy()`: Returns a shallow copy of the dictionary.\n",
    "   - `update(other_dict)`: Merges the dictionary with another dictionary.\n",
    "\n",
    "9. **Dictionary Comprehensions**: Like list comprehensions, you can create dictionaries using dictionary comprehensions:\n",
    "\n",
    "   ```python\n",
    "   squares = {x: x*x for x in range(1, 6)}\n",
    "   # Output: {1: 1, 2: 4, 3: 9, 4: 16, 5: 25}\n",
    "   ```\n",
    "\n",
    "10. **Dictionary Ordering**: Starting from Python 3.7, dictionaries maintain the order of key-value pairs as they were inserted. In Python 3.6 and earlier, dictionaries were unordered.\n",
    "\n",
    "11. **Nested Dictionaries**: You can have dictionaries within dictionaries, creating a nested structure to store more complex data.\n",
    "\n",
    "   ```python\n",
    "   employee = {\n",
    "       'name': 'John',\n",
    "       'info': {'age': 30, 'city': 'New York'}\n",
    "   }\n",
    "   ```\n",
    "\n",
    "12. **Dictionary Use Cases**: Dictionaries are useful for tasks such as caching, mapping, counting occurrences of items, and organizing data in a structured way.\n",
    "\n",
    "13. **Hashable Keys**: Keys in a dictionary must be hashable, which means they should be immutable and have a consistent hash value. Common hashable types include strings, numbers, and tuples."
   ]
  },
  {
   "cell_type": "markdown",
   "metadata": {},
   "source": [
    "# 2. Strings"
   ]
  },
  {
   "cell_type": "markdown",
   "metadata": {},
   "source": [
    "Strings are fundamental data types in Python, and they are used to represent text. In Python, strings are versatile and offer various methods and operations for text manipulation.\n",
    "\n",
    "### 2.1. **String Basics**:\n",
    "- A string is a sequence of characters enclosed within either single (' '), double (\" \"), or triple (''' ''' or \"\" \"\") quotes."
   ]
  },
  {
   "cell_type": "code",
   "execution_count": 23,
   "metadata": {},
   "outputs": [
    {
     "name": "stdout",
     "output_type": "stream",
     "text": [
      "This is a string.\n",
      "Another 'string'.\n",
      "A multi-line\n",
      "string.\n"
     ]
    }
   ],
   "source": [
    "single_quoted = 'This is a string.'\n",
    "double_quoted = \"Another 'string'.\"\n",
    "triple_quoted = '''A multi-line\n",
    "string.'''\n",
    "\n",
    "print(single_quoted)\n",
    "print(double_quoted)\n",
    "print(triple_quoted)"
   ]
  },
  {
   "cell_type": "markdown",
   "metadata": {},
   "source": [
    "- Strings in Python are immutable, meaning you cannot change the characters of an existing string. When you modify a string, a new string is created.\n",
    "- Example:\n",
    "```python\n",
    "original_str = \"Hello\"\n",
    "modified_str = original_str + \", World!\"  # Creates a new string\n",
    "```"
   ]
  },
  {
   "cell_type": "markdown",
   "metadata": {},
   "source": [
    "### 2.2. **String Operations**:\n",
    "- You can perform various operations on strings, including concatenation, repetition, and slicing.\n",
    "- Examples:\n",
    "```python\n",
    "first_name = \"John\"\n",
    "last_name = \"Doe\"\n",
    "full_name = first_name + \" \" + last_name  # Concatenation\n",
    "repeated = \"Hello, \" * 3  # Repetition\n",
    "part_of_string = full_name[0:4]  # Slicing\n",
    "```"
   ]
  },
  {
   "cell_type": "code",
   "execution_count": null,
   "metadata": {},
   "outputs": [],
   "source": [
    "# EXERCISE\n",
    "# Using string operation, get the filename of my homework notebook.\n",
    "my_path = \"/Users/my_name/Desktop/NSU/Sem1/Python/materials/homework.ipynb\"\n",
    "my_filename = None # YOUR CODE\n",
    "print(my_filename)\n",
    "\n",
    "# I want to save my homework notebook to this directory\n",
    "my_new_dir = \"/Users/my_name/Desktop/NSU/practices/homework\"\n",
    "my_new_path = None # YOUR CODE\n",
    "\n",
    "print(my_new_path)"
   ]
  },
  {
   "cell_type": "markdown",
   "metadata": {},
   "source": [
    "### 2.3. **String Methods**:\n",
    "Python provides a wide range of built-in string methods that allow you to manipulate and work with strings effectively.\n",
    "\n",
    "**`str.upper()`** and **`str.lower()`**:\n",
    "- `str.upper()` returns a copy of the string with all characters in uppercase.\n",
    "- `str.lower()` returns a copy of the string with all characters in lowercase.\n",
    "\n",
    "Example:\n",
    "```python\n",
    "text = \"Python Programming\"\n",
    "upper_text = text.upper()\n",
    "lower_text = text.lower()\n",
    "# Result: \"PYTHON PROGRAMMING\", \"python programming\"\n",
    "```\n",
    "\n",
    "**`str.replace(old, new)`**\n",
    "- Returns a copy of the string with all occurrences of the `old` substring replaced by the `new` substring.\n",
    "\n",
    "Example:\n",
    "```python\n",
    "text = \"Hello, World!\"\n",
    "replaced_text = text.replace(\"Hello\", \"Hi\")\n",
    "# Result: \"Hi, World!\"\n",
    "```\n",
    "\n",
    "**`str.title()`**\n",
    "- Returns a copy of the string with the first character of each word capitalized and the rest in lowercase.\n",
    "\n",
    "Example:\n",
    "```python\n",
    "text = \"python programming is fun\"\n",
    "title_text = text.title()\n",
    "# Result: \"Python Programming Is Fun\"\n",
    "```\n",
    "\n",
    "**`str.capitalize()`**\n",
    "- Returns a copy of the string with the first character capitalized and the rest in lowercase.\n",
    "\n",
    "Example:\n",
    "```python\n",
    "text = \"hello world\"\n",
    "capitalized_text = text.capitalize()\n",
    "# Result: \"Hello world\"\n",
    "```\n",
    "\n",
    "**`str.startswith(prefix)`** and **`str.endswith(suffix)`**:\n",
    "- These methods check if the string starts with the specified prefix or ends with the specified suffix, respectively.\n",
    "\n",
    "Example:\n",
    "```python\n",
    "text = \"Hello, World!\"\n",
    "starts_with_hello = text.startswith(\"Hello\")\n",
    "ends_with_world = text.endswith(\"World!\")\n",
    "# Result: True, True\n",
    "```\n",
    "\n",
    "**`str.strip()`**, **`str.lstrip()`**, and **`str.rstrip()`**\n",
    "- `str.strip()` removes leading and trailing whitespace characters (including spaces, tabs, and newlines).\n",
    "- `str.lstrip()` removes leading whitespace.\n",
    "- `str.rstrip()` removes trailing whitespace.\n",
    "\n",
    "Example:\n",
    "```python\n",
    "text = \"   Python   \"\n",
    "stripped_text = text.strip()\n",
    "# Result: \"Python\"\n",
    "```\n",
    "\n",
    "**`str.split(separator)`**\n",
    "- Splits the string into a list of substrings based on the specified `separator`.\n",
    "\n",
    "Example:\n",
    "```python\n",
    "text = \"apple,banana,cherry\"\n",
    "fruits = text.split(\",\")\n",
    "# Result: ['apple', 'banana', 'cherry']\n",
    "```\n",
    "\n",
    "**`str.join(iterable)`**\n",
    "- Joins the elements of an iterable (e.g., a list) into a single string, using the original string as a separator.\n",
    "\n",
    "Example:\n",
    "```python\n",
    "fruits = ['apple', 'banana', 'cherry']\n",
    "text = \", \".join(fruits)\n",
    "# Result: \"apple, banana, cherry\"\n",
    "```"
   ]
  },
  {
   "cell_type": "code",
   "execution_count": null,
   "metadata": {},
   "outputs": [],
   "source": [
    "# EXERCISE\n",
    "\n",
    "# 1.Reverse a String\n",
    "string1 = \"Hello Python, how are you?\"\n",
    "\n",
    "# 2.Palindrome Check: checks if a given string is a palindrome (reads the same forwards and backward).\n",
    "strings = [\"Racecar \", \" Madam\", \" Apple \", \"Cake\", \" Malina   \"]\n",
    "\n",
    "# 3.Count Vowels and Consonants: counts the number of vowels and consonants in a given string.\n",
    "string2 = \"The quick brown Fox jumps over the lazy Dog\"\n",
    "\n",
    "# 4. Word Count: counts the number of words in each sentence or paragraph.\n",
    "sentences = [\n",
    "    \"In the realm of code, where ideas take flight,\",\n",
    "    \"A language emerged, shining so bright.\",\n",
    "    \"Python, they named it, a snake with no hiss,\",\n",
    "    \"A tool for the ages, pure coding bliss.\"\n",
    "]\n",
    "\n",
    "# 5. Filter all paths of csv files\n",
    "paths = [\n",
    "    \"/path/to/your/directory/file1.csv\",\n",
    "    \"/path/to/your/directory/file2.txt\",\n",
    "    \"/path/to/your/directory/file3.csv\",\n",
    "    \"/path/to/your/directory/file4.jpg\",\n",
    "    \"/path/to/your/directory/file5.csv\",\n",
    "    \"/path/to/your/directory/file6.txt\",\n",
    "    \"/path/to/your/directory/file7.csv\",\n",
    "    \"/path/to/your/directory/file8.pdf\",\n",
    "    \"/path/to/your/directory/file9.csv\",\n",
    "    \"/path/to/your/directory/file10.txt\",\n",
    "]"
   ]
  },
  {
   "cell_type": "markdown",
   "metadata": {},
   "source": [
    "### 2.4. **String Formatting**:\n",
    "- You can format strings using various techniques, including f-strings (Python 3.6+), `%` formatting, and `str.format()` method.\n",
    "- Examples:\n",
    "```python\n",
    "name = \"Alice\"\n",
    "age = 30\n",
    "formatted_str = f\"My name is {name} and I am {age} years old.\"  # f-string\n",
    "formatted_str2 = \"My name is %s and I am %d years old.\" % (name, age)  # % formatting\n",
    "formatted_str3 = \"My name is {} and I am {} years old.\".format(name, age)  # str.format()\n",
    "```\n",
    "\n",
    "### 2.5. **Escape Sequences**:\n",
    "- Python supports escape sequences to represent special characters within strings (e.g., newline `\\n`, tab `\\t`, backslash `\\\\`).\n",
    "- Example:\n",
    "```python\n",
    "message = \"This is a line.\\nThis is a new line.\"\n",
    "```\n",
    "\n",
    "### 2.6. **String Escape Notation**:\n",
    "- Python supports Unicode escape notation, which allows you to represent Unicode characters using the `\\u` and `\\U` escapes.\n",
    "- [List of unicode for emojis](http://unicode.org/emoji/charts/full-emoji-list.html#1f603).\n",
    "\n",
    "- Example:\n",
    "```python\n",
    "smiley = \"\\U0001F604\"  # Unicode for smiling face with open mouth\n",
    "```"
   ]
  },
  {
   "cell_type": "code",
   "execution_count": 41,
   "metadata": {},
   "outputs": [
    {
     "data": {
      "text/plain": [
       "'😄'"
      ]
     },
     "execution_count": 41,
     "metadata": {},
     "output_type": "execute_result"
    }
   ],
   "source": [
    "smiley = \"\\U0001F604\"\n",
    "smiley"
   ]
  },
  {
   "cell_type": "code",
   "execution_count": null,
   "metadata": {},
   "outputs": [],
   "source": [
    "# EXERCISE\n",
    "# Write messages to invite friends to your party. \n",
    "# Attach different emojis for each one.\n",
    "# Using a dictionary to store output messages for each friend.\n",
    "# Message:\n",
    "# \"Hello [name], please come to my party this Sunday. I'll make Shashlik. Pleae bring [gift]. It's gonna be fun. See you there! [emoji]\"\n",
    "\n",
    "\n",
    "friends = [\"Ana\", \"Ivan\", \"Natasha\", \"Boris\"]\n",
    "expected_gifts = [\"a cake\", \"a bottle of vodka\", \"fruits\", \"a bottle of kvas\"]\n"
   ]
  },
  {
   "cell_type": "markdown",
   "metadata": {},
   "source": [
    "**FUN EXERCISE**\n",
    "\n",
    "In a dimly lit room, the air heavy with suspense, you found yourself trapped, desperate to escape. Your eyes scanned every corner for clues, but the walls seemed to close in. The clock on the wall ticked ominously, a constant reminder of the looming deadline.\n",
    "\n",
    "You began to search the room meticulously, checking every drawer, examining every painting, and tapping on every suspicious-looking panel. A sense of urgency washed over you as you realized that time was running out.\n",
    "\n",
    "Just as you were about to give up hope, your fingers grazed a loose floorboard beneath the worn-out carpet. Your heart raced as you pried it open to reveal a hidden compartment, and within it, a note that held the key to your salvation. With trembling hands, you deciphered the hint, and a glimmer of hope sparked within you as you worked to solve the puzzle that would set you free.\n",
    "\n",
    "`In the meadow's embrace, WILDFLOWERS bloom with grace,`\n",
    "\n",
    "`The RIVER whispers secrets, as it continues its race,`\n",
    "\n",
    "`Seventeenth century tales, told in a quiet PLACE,`\n",
    "\n",
    "`Page by page, HISTORY unfolds, each line we must trace.`\n"
   ]
  },
  {
   "cell_type": "code",
   "execution_count": null,
   "metadata": {},
   "outputs": [],
   "source": [
    "# Use Python to find the hidden message"
   ]
  },
  {
   "cell_type": "markdown",
   "metadata": {},
   "source": [
    "# 3. Exceptions"
   ]
  },
  {
   "cell_type": "markdown",
   "metadata": {},
   "source": [
    "When your Python program encounter errors, it will terminate the execution and throw an error that could be a `SyntaxError` or an `Exception`.\n",
    "\n",
    "- `SyntaxError`: occurs during the parsing phase when your code violate Python grammar rules. Your program cannot run.\n",
    "- `Exception`: occurs during execution after your code has been sucessfully parsed and run. Exceptions can be handled using `try...except` block."
   ]
  },
  {
   "cell_type": "code",
   "execution_count": null,
   "metadata": {},
   "outputs": [],
   "source": [
    "# syntax error\n",
    "print(\"Hello\""
   ]
  },
  {
   "cell_type": "code",
   "execution_count": null,
   "metadata": {},
   "outputs": [],
   "source": [
    "# exception\n",
    "print(my_var) # NameError"
   ]
  },
  {
   "cell_type": "code",
   "execution_count": null,
   "metadata": {},
   "outputs": [],
   "source": [
    "# exceptions might not occur right away\n",
    "x = 1\n",
    "if x % 2 == 0:\n",
    "    print(10/x) # ZeroDivisionError\n",
    "else:\n",
    "    print(\"No error, x =\", x)"
   ]
  },
  {
   "cell_type": "markdown",
   "metadata": {},
   "source": [
    "### 3.1. The `try` and `except` Blocks:\n",
    "\n",
    "Python provides a structured way to handle exceptions using `try` and `except` blocks. The basic syntax is as follows:\n",
    "\n",
    "```python\n",
    "try:\n",
    "    # Code that may raise an exception\n",
    "except SomeException:\n",
    "    # Code to handle the exception\n",
    "```\n",
    "\n",
    "- The `try` block contains the code that may raise an exception.\n",
    "- If an exception is raised in the `try` block, Python immediately jumps to the appropriate `except` block.\n",
    "- The `except` block specifies the type of exception you want to catch and provides code to handle that exception."
   ]
  },
  {
   "cell_type": "code",
   "execution_count": null,
   "metadata": {},
   "outputs": [],
   "source": [
    "x = 0\n",
    "\n",
    "try:\n",
    "    print(10/x)\n",
    "except:\n",
    "    print(\"Sorry, there's an error. It has been handled. Don't worry.\")"
   ]
  },
  {
   "cell_type": "markdown",
   "metadata": {},
   "source": [
    "### 3.2. Common Built-in Exceptions:\n",
    "\n",
    "- `Exception` is the base class for all exceptions.\n",
    "- Python has a variety of built-in exceptions that cover different types of errors. Some common exceptions include:"
   ]
  },
  {
   "cell_type": "code",
   "execution_count": null,
   "metadata": {},
   "outputs": [],
   "source": [
    "# SyntaxError: Occurs when there is a syntax error in your code.\n",
    "print([1,2,3)"
   ]
  },
  {
   "cell_type": "code",
   "execution_count": null,
   "metadata": {},
   "outputs": [],
   "source": [
    "# IndentationError: Occurs when there is an indentation error (e.g., mismatched spaces or tabs).\n",
    "x = 1\n",
    "if x == 1:\n",
    "print(x)"
   ]
  },
  {
   "cell_type": "code",
   "execution_count": null,
   "metadata": {},
   "outputs": [],
   "source": [
    "# NameError: Occurs when a variable or function is not defined.\n",
    "print(not_defined_var)"
   ]
  },
  {
   "cell_type": "code",
   "execution_count": null,
   "metadata": {},
   "outputs": [],
   "source": [
    "# TypeError: Occurs when an operation is performed on an inappropriate data type.\n",
    "1 + \"5.0\""
   ]
  },
  {
   "cell_type": "code",
   "execution_count": null,
   "metadata": {},
   "outputs": [],
   "source": [
    "# ValueError: Occurs when a function receives an argument of the correct data type but with an inappropriate value.\n",
    "import math\n",
    "math.sqrt(-1)"
   ]
  },
  {
   "cell_type": "code",
   "execution_count": null,
   "metadata": {},
   "outputs": [],
   "source": [
    "# FileNotFoundError: Occurs when an attempt to open a file fails because the file does not exist.\n",
    "with open(\"file_not_exist.txt\", \"r\") as f:\n",
    "    f.read()"
   ]
  },
  {
   "cell_type": "code",
   "execution_count": null,
   "metadata": {},
   "outputs": [],
   "source": [
    "# ZeroDivisionError: Occurs when you attempt to divide a number by zero.\n",
    "print(10/0)"
   ]
  },
  {
   "cell_type": "code",
   "execution_count": null,
   "metadata": {},
   "outputs": [],
   "source": [
    "# IndexError: Occurs when you try to access an index that is out of range in a list or other sequence.\n",
    "my_list = [1,2,3]\n",
    "print(my_list[4])"
   ]
  },
  {
   "cell_type": "markdown",
   "metadata": {},
   "source": [
    "### 3.3. Handling All Exceptions:\n",
    "\n",
    "You can catch all exceptions by using the generic `except` block without specifying an exception type. However, this should be used sparingly, as it may make debugging difficult:\n",
    "\n",
    "```python\n",
    "try:\n",
    "    # Code that may raise an exception\n",
    "except:\n",
    "    # Code to handle any exception\n",
    "```"
   ]
  },
  {
   "cell_type": "code",
   "execution_count": null,
   "metadata": {},
   "outputs": [],
   "source": [
    "# Without error handling\n",
    "with open(\"sample.txt\", \"r\") as f:\n",
    "    lines = f.readlines()\n",
    "    x = lines[0]\n",
    "    print(10/int(x))\n",
    "    \n",
    "print(\"Continue running...\")"
   ]
  },
  {
   "cell_type": "code",
   "execution_count": null,
   "metadata": {},
   "outputs": [],
   "source": [
    "# with exception handling (all cases)\n",
    "try:\n",
    "    with open(\"sample.txt\", \"r\") as f:\n",
    "        lines = f.readlines()\n",
    "    x = lines[1]\n",
    "    print(10/x)\n",
    "except:\n",
    "    print(\"There's an error.\")\n",
    "\n",
    "print(\"Continue running...\")"
   ]
  },
  {
   "cell_type": "code",
   "execution_count": null,
   "metadata": {},
   "outputs": [],
   "source": [
    "# with exception handling (multiple cases)\n",
    "try:\n",
    "    with open(\"sample.txt\", \"r\") as f:\n",
    "        lines = f.readlines()\n",
    "    x = lines[0]\n",
    "    print(10/int(x))\n",
    "except FileNotFoundError:\n",
    "    print(\"ERROR: File not found.\")\n",
    "except IndexError:\n",
    "    print(\"ERROR: File is empty.\")\n",
    "except ZeroDivisionError:\n",
    "    print(\"ERROR: Value is 0.\")\n",
    "except:\n",
    "    print(\"ERROR\")\n",
    "\n",
    "print('Continue running program...')"
   ]
  },
  {
   "cell_type": "code",
   "execution_count": null,
   "metadata": {},
   "outputs": [],
   "source": [
    "# EXERCISE\n",
    "\n",
    "# Create a simple divide() function that takes a numerator and a denominator, both must be interger. The function return the result of numerator // denominator.\n",
    "# Handle any exceptions you might expect.\n",
    "\n",
    "def divide(numerator, denominator):\n",
    "    pass # YOUR CODE"
   ]
  },
  {
   "cell_type": "markdown",
   "metadata": {},
   "source": [
    "### 3.4. The `finally` Block:\n",
    "\n",
    "The `finally` block is used to specify code that will be executed regardless of whether an exception was raised or not. It is commonly used for cleanup tasks like closing files or releasing resources:\n",
    "\n",
    "```python\n",
    "try:\n",
    "    # Code that may raise an exception\n",
    "except SomeException:\n",
    "    # Code to handle SomeException\n",
    "finally:\n",
    "    # Code that always runs\n",
    "```"
   ]
  },
  {
   "cell_type": "code",
   "execution_count": null,
   "metadata": {},
   "outputs": [],
   "source": [
    "try:\n",
    "    print(\"Opening file...\")\n",
    "    f = open(\"sample.txt\", \"r\")\n",
    "    lines = f.readlines()\n",
    "    x = lines[0]\n",
    "    print(10/int(x))\n",
    "except FileNotFoundError:\n",
    "    print(\"ERROR: File not found.\")\n",
    "except IndexError:\n",
    "    print(\"ERROR: File is empty.\")\n",
    "except ZeroDivisionError:\n",
    "    print(\"ERROR: Value is 0.\")\n",
    "except:\n",
    "    print(\"ERROR\")\n",
    "finally:\n",
    "    print(\"Closing file...\")\n",
    "    f.close()\n",
    "\n",
    "print('Continue running program...')"
   ]
  },
  {
   "cell_type": "markdown",
   "metadata": {},
   "source": [
    "### 3.5. Custom Exceptions:\n",
    "\n",
    "You can create custom exceptions by defining a new class that inherits from the `Exception` class or one of its subclasses. Custom exceptions can provide more specific information about errors in your code.\n",
    "\n",
    "```python\n",
    "class CustomError(Exception):\n",
    "    def __init__(self, message):\n",
    "        super().__init__(message)\n",
    "```\n",
    "\n",
    "### 3.6. Raising Exceptions:\n",
    "\n",
    "You can raise exceptions using the `raise` statement. This is useful when you want to create your own custom exceptions or propagate exceptions to higher levels of your program:\n",
    "\n",
    "```python\n",
    "def analyze(data):\n",
    "    if not isinstance(data, list):\n",
    "        raise TypeError\n",
    "    if len(data) == 0:\n",
    "        raise EmptyFileError # your custom exception\n",
    "    else:\n",
    "        # do something\n",
    "        return data\n",
    "\n",
    "try:\n",
    "    analyze(data)\n",
    "except TypeError:\n",
    "    print(\"ERROR: Incorrect data type. Expected type 'list'.\")\n",
    "except EmptyFileError: # your custom exception\n",
    "    print(\"ERROR: Data is empty. Cannot analyze.\")\n",
    "except:\n",
    "    print(\"ERROR\")\n",
    "```\n",
    "\n",
    "\n",
    "### 3.7. Using `else` with `try` and `except`:\n",
    "\n",
    "You can use the `else` block with `try` and `except` to specify code that should run only if no exceptions were raised in the `try` block:\n",
    "\n",
    "```python\n",
    "try:\n",
    "    # Code that may raise an exception\n",
    "except SomeException:\n",
    "    # Code to handle SomeException\n",
    "else:\n",
    "    # Code that runs if no exceptions were raised\n",
    "```"
   ]
  },
  {
   "cell_type": "code",
   "execution_count": null,
   "metadata": {},
   "outputs": [],
   "source": [
    "def validate(data):\n",
    "    if not isinstance(data, dict):\n",
    "        raise TypeError(\"Incorrect data type. Expected type 'dict'.\")\n",
    "    if \"content\" not in data.keys():\n",
    "        raise KeyError(\"Data must have field 'content'.\")\n",
    "    if not data[\"content\"]:\n",
    "        raise TypeError(\"No content found.\")\n",
    "    \n",
    "# In your program\n",
    "data = {\n",
    "    \"contents\": \"Hello Python\"\n",
    "}\n",
    "try:\n",
    "    validate(data)\n",
    "except TypeError as err:\n",
    "    print(\"Failed valiation. Reason:\", err)\n",
    "except KeyError as err:\n",
    "    print(\"Failed valiation. Reason:\", err)\n",
    "else:\n",
    "    print(\"Passed validate. Continue running your program...\")"
   ]
  },
  {
   "cell_type": "markdown",
   "metadata": {},
   "source": [
    "### 3.8. Exception Propagation:\n",
    "\n",
    "If you don't catch an exception in a function, it will propagate up the call stack until it is caught or until it terminates the program.\n",
    "\n",
    "### 3.9. Best Practices for Exception Handling:\n",
    "\n",
    "- Be specific in catching exceptions. Avoid using a generic `except` block if possible.\n",
    "- Handle exceptions at the appropriate level of your code.\n",
    "- Provide meaningful error messages to aid in debugging.\n",
    "- Use the `finally` block for cleanup tasks.\n",
    "\n",
    "Here's an example of exception handling in Python:\n",
    "\n",
    "```python\n",
    "try:\n",
    "    num = int(input(\"Enter a number: \"))\n",
    "    result = 10 / num\n",
    "except ValueError:\n",
    "    print(\"Invalid input. Please enter a valid number.\")\n",
    "except ZeroDivisionError:\n",
    "    print(\"Cannot divide by zero.\")\n",
    "else:\n",
    "    print(f\"Result: {result}\")\n",
    "finally:\n",
    "    print(\"Execution complete.\")\n",
    "```\n",
    "\n",
    "In this example, we handle `ValueError` and `ZeroDivisionError` exceptions and provide appropriate error messages. The `else` block prints the result if no exceptions were raised, and the `finally` block ensures that the \"Execution complete\" message is always printed."
   ]
  },
  {
   "cell_type": "code",
   "execution_count": null,
   "metadata": {},
   "outputs": [],
   "source": [
    "# EXERCISE\n",
    "\n",
    "data = {\n",
    "    \"author\": \"ChatGPT\",\n",
    "    \"date_created\": \"25-09-2023\"\n",
    "    \"content\": [\n",
    "        \"In Python's world, where code does flow,\",\n",
    "        \"With syntax clean, both high and low.\",\n",
    "        \"From lists and loops to functions grand,\",\n",
    "        \"We craft solutions, as we've planned.\",\n",
    "\n",
    "        \"With libraries vast, we find our way,\",\n",
    "        \"In data's dance, we work and play.\",\n",
    "        \"In Python's realm, both near and far,\",\n",
    "        \"We code and create, like shooting stars.\"\n",
    "    ]\n",
    "}\n",
    "\n",
    "# Validate the data:\n",
    "# - Must be type dict\n",
    "# - Must contain the fied 'content'\n",
    "# - Value of 'content' must be a non-empty list\n",
    "# - The poem must have 8 lines\n",
    "# - Each line does not contain more than 50 characters.\n",
    "def validate(data):\n",
    "    pass # YOUR CODE\n",
    "\n",
    "# If pass validation, print the poem 2 times.\n",
    "\n",
    "# Finally, if there is author name, print the author name, otherwise, print \"Thank you\""
   ]
  },
  {
   "cell_type": "markdown",
   "metadata": {},
   "source": [
    "# 4. File IO"
   ]
  },
  {
   "cell_type": "markdown",
   "metadata": {},
   "source": [
    "Python provides a robust set of tools for working with file input and output (I/O). File I/O is essential for reading and writing data to and from files, which is a common task in programming.\n",
    "\n",
    "### 4.1. Opening and Closing Files:\n",
    "\n",
    "**Opening Files**\n",
    "   - You can open a file using the `open()` function. It takes two arguments: the filename and the mode in which you want to open the file (read, write, etc.).\n",
    "\n",
    "   ```python\n",
    "   # Opening a file for reading\n",
    "   file = open(\"example.txt\", \"r\")\n",
    "\n",
    "   # Opening a file for writing (creates the file if it doesn't exist)\n",
    "   file = open(\"output.txt\", \"w\")\n",
    "   ```\n",
    "\n",
    "**Closing Files**\n",
    "   - It's important to close files after you're done with them to release system resources.\n",
    "   - You can close a file using the `close()` method of the file object:\n",
    "\n",
    "   ```python\n",
    "   file.close()\n",
    "   ```\n",
    "\n",
    "However, a safer way to ensure files are closed automatically is by using a `with` statement:\n",
    "\n",
    "   ```python\n",
    "   with open(\"example.txt\", \"r\") as file:\n",
    "       # File operations here\n",
    "   # File is automatically closed when the block is exited\n",
    "   ```\n",
    "\n",
    "### 4.2. Reading from Files:\n",
    "\n",
    "**Reading Modes**\n",
    "\n",
    "You can open a file in different modes for reading:\n",
    "\n",
    "- `\"r\"`: Read (default mode)\n",
    "- `\"rb\"`: Read in binary mode\n",
    "\n",
    "**Reading Methods**:\n",
    "\n",
    "Common methods for reading from files include:\n",
    "- `read()`: Reads the entire file contents.\n",
    "- `readline()`: Reads a single line from the file.\n",
    "- `readlines()`: Reads all lines into a list.\n",
    "\n",
    "```python\n",
    "with open(\"example.txt\", \"r\") as file:\n",
    "    content = file.read()\n",
    "```"
   ]
  },
  {
   "cell_type": "code",
   "execution_count": 20,
   "metadata": {},
   "outputs": [
    {
     "name": "stdout",
     "output_type": "stream",
     "text": [
      "<class 'str'>\n",
      "In the realm of code, where ideas take flight,\n",
      "\n"
     ]
    }
   ],
   "source": [
    "with open(\"poem.txt\", \"r\") as file:\n",
    "    # lines = file.readlines()\n",
    "    # print(type(lines)) # list\n",
    "    # print(lines)\n",
    "\n",
    "    line = file.readline()\n",
    "    print(type(line)) # str\n",
    "    print(line)\n",
    "\n",
    "    # poem = file.read()\n",
    "    # print(type(poem)) # str\n",
    "    # print(poem)\n"
   ]
  },
  {
   "cell_type": "markdown",
   "metadata": {},
   "source": [
    "**Why read only one line?**\n",
    "\n",
    "- The `file.readline()` method in Python is used to read a single line from a file and return it as a string. It's a practical way to read and process large files line by line, rather than loading the entire file into memory at once.\n",
    "\n",
    "```python\n",
    "with open(\"large_file.txt\", \"r\") as file:\n",
    "    while True:\n",
    "        line = file.readline()\n",
    "        if not line:\n",
    "            break\n",
    "        # Process the line\n",
    "```\n",
    "\n",
    "- Log files often contain timestamped entries on separate lines. You can use `readline()` to parse and process log entries one by one.\n",
    "\n",
    "```python\n",
    "with open(\"app_log.txt\", \"r\") as log_file:\n",
    "    while True:\n",
    "        line = log_file.readline()\n",
    "        if line.startswith(\"25-09-2023\"):\n",
    "            print(line)\n",
    "            break\n",
    "```"
   ]
  },
  {
   "cell_type": "code",
   "execution_count": 19,
   "metadata": {},
   "outputs": [
    {
     "name": "stdout",
     "output_type": "stream",
     "text": [
      "Imported Pillow\n",
      "<class 'PIL.JpegImagePlugin.JpegImageFile'>\n"
     ]
    }
   ],
   "source": [
    "# Read binary data (non-text data)\n",
    "try:\n",
    "    from PIL import Image\n",
    "except ModuleNotFoundError:\n",
    "    print(\"Installing Pillow\")\n",
    "    !pip3 install Pillow\n",
    "    from PIL import Image\n",
    "finally:\n",
    "    print(\"Imported Pillow\")\n",
    "\n",
    "with open(\"img/python_datatypes.jpeg\", \"rb\") as binary_file:\n",
    "    image = Image.open(binary_file)\n",
    "\n",
    "    print(type(image))\n",
    "    image.show()"
   ]
  },
  {
   "cell_type": "code",
   "execution_count": null,
   "metadata": {},
   "outputs": [],
   "source": [
    "# EXERCISE\n",
    "# Read the 'img/python_interpreter.png' file and show the image"
   ]
  },
  {
   "cell_type": "markdown",
   "metadata": {},
   "source": [
    "### 4.3. Writing to Files:\n",
    "\n",
    "**Writing Modes**\n",
    "You can open a file in different modes for writing:\n",
    "\n",
    "- `\"w\"`: Write (creates a new file or truncates an existing file).\n",
    "- `\"a\"`: Append (appends data to an existing file).\n",
    "- `\"wb\"`: Write in binary mode.\n",
    "- `\"x\"`: Exclusive creation (fails if the file already exists).\n",
    "\n",
    "**Writing Methods**:\n",
    "Common methods for writing to files include:\n",
    "\n",
    "- `write()`: Writes a string to the file.\n",
    "- `writelines()`: Writes a list of strings to the file.\n",
    "\n",
    "```python\n",
    "with open(\"output.txt\", \"w\") as file:\n",
    "    file.write(\"Hello, World!\")\n",
    "```"
   ]
  },
  {
   "cell_type": "code",
   "execution_count": 17,
   "metadata": {},
   "outputs": [],
   "source": [
    "# EXERCISE\n",
    "\n",
    "# 1.Write the poem from nbs/poem.txt to nbs/copied_poem.txt\n",
    "\n",
    "# 2. Write your name after the poem in nbs/copied_poem.txt\n"
   ]
  },
  {
   "cell_type": "markdown",
   "metadata": {},
   "source": [
    "\n",
    "\n",
    "### 4.4. File Iteration:\n",
    "\n",
    "**Iterating Over Lines**:\n",
    "You can iterate over the lines of a file using a `for` loop. Each iteration yields a line from the file.\n",
    "\n",
    "```python\n",
    "with open(\"example.txt\", \"r\") as file:\n",
    "    for line in file:\n",
    "        print(line)\n",
    "```\n",
    "\n",
    "### 4.5. File Navigation and Management:\n",
    "\n",
    "**File Position**\n",
    "You can use the `tell()` method to get the current file position and the `seek()` method to change the file position.\n",
    "\n",
    "```python\n",
    "with open(\"example.txt\", \"r\") as file:\n",
    "    file.seek(10)  # Move to the 11th character\n",
    "    position = file.tell()  # Get the current position\n",
    "```\n",
    "\n",
    "**File Attributes**\n",
    "File objects have attributes like `name` (filename), `mode` (file mode), and others.\n",
    "\n",
    "```python\n",
    "with open(\"example.txt\", \"r\") as file:\n",
    "    print(file.name)  # Name of the file\n",
    "    print(file.mode)  # File mode\n",
    "```\n",
    "\n",
    "**File Management**\n",
    "The `os` module provides functions for file management tasks like renaming and deleting files.\n",
    "\n",
    "```python\n",
    "import os\n",
    "\n",
    "os.rename(\"old.txt\", \"new.txt\")  # Renames a file\n",
    "os.remove(\"file_to_delete.txt\")  # Deletes a file\n",
    "```\n",
    "\n",
    "### 4.6. Handling Errors:\n",
    "\n",
    "**Error Handling**:\n",
    "File I/O can raise exceptions, such as `FileNotFoundError` or `PermissionError`. You should handle these exceptions using `try` and `except` blocks.\n",
    "\n",
    "```python\n",
    "try:\n",
    "    with open(\"example.txt\", \"r\") as file:\n",
    "        content = file.read()\n",
    "except FileNotFoundError:\n",
    "    print(\"File not found\")\n",
    "except PermissionError:\n",
    "    print(\"Permission denied\")\n",
    "```"
   ]
  },
  {
   "cell_type": "code",
   "execution_count": null,
   "metadata": {},
   "outputs": [],
   "source": [
    "# EXERCISE\n",
    "\n",
    "# Read file log.txt, if there's no file, handle exception with a clear message\n",
    "\n",
    "# If there's log file, find log of 25-09-2023, save all WARNINGS to filtered_log.txt.\n"
   ]
  },
  {
   "cell_type": "markdown",
   "metadata": {},
   "source": []
  }
 ],
 "metadata": {
  "kernelspec": {
   "display_name": "Python 3",
   "language": "python",
   "name": "python3"
  },
  "language_info": {
   "codemirror_mode": {
    "name": "ipython",
    "version": 3
   },
   "file_extension": ".py",
   "mimetype": "text/x-python",
   "name": "python",
   "nbconvert_exporter": "python",
   "pygments_lexer": "ipython3",
   "version": "3.9.6"
  },
  "orig_nbformat": 4
 },
 "nbformat": 4,
 "nbformat_minor": 2
}
