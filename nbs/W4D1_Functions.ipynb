{
 "cells": [
  {
   "cell_type": "markdown",
   "metadata": {},
   "source": [
    "# 1. Function"
   ]
  },
  {
   "cell_type": "markdown",
   "metadata": {},
   "source": [
    "### 1.1. Function Definition\n",
    "\n",
    "- **Functions** are blocks of reusable code that perform a specific task in Python. A function in Python is defined using the `def` keyword followed by the function name and a pair of parentheses `( )`.\n",
    "\n",
    "- Function name:\n",
    "    - You can also specify parameters (input values) within the parentheses.\n",
    "    - Function names should be descriptive and follow naming conventions (usually lowercase with underscores for multiple words).\n",
    "    - Function names must be unique within the same scope.\n",
    "\n",
    "- Return value: Functions can return a value to the caller using the `return` statement. If no return statement is used, the function returns `None` by default.\n",
    "\n",
    "- Function body:\n",
    "    - The function body is indented and contains the code that defines what the function does.\n",
    "    - It can include any Python statements, including loops, conditionals, and other function calls.\n",
    "\n",
    "- Function call: To use a function, you call it by using its name followed by parentheses, and you can pass arguments (values) as inputs to the function.\n",
    "\n",
    "Example:\n",
    "```python\n",
    "# Define a function without parameter\n",
    "def greet_everybody():\n",
    "    print(\"Hello, everybody!\")\n",
    "    # Return None\n",
    "\n",
    "# Call a function without parameter\n",
    "greet_everybody()\n",
    "\n",
    "# Define a function with a parameter\n",
    "def greet(name):\n",
    "    print(f\"Hello, {name}!\") \n",
    "    # Return None\n",
    "\n",
    "# Call a function with a parameter\n",
    "greet(\"Ivan\")\n",
    "    \n",
    "```"
   ]
  },
  {
   "cell_type": "markdown",
   "metadata": {},
   "source": [
    "### 1.2. Parameters\n",
    "\n",
    "- **Parameters** are variables that you define in the function signature to accept input values.\n",
    "- You can have multiple parameters separated by commas.\n",
    "\n",
    "Example:\n",
    "```python\n",
    "def add(x, y):\n",
    "    result = x + y\n",
    "    return result\n",
    "```\n",
    "\n",
    "- Functions can have positional, keyword, default and variable length arguments. \n",
    "\n",
    "    - **Positional Arguments:** Positional arguments are the most common type of arguments, and they are defined in the order they appear in the function signature. the caller must pass arguments in the correct order.\n",
    "\n",
    "        ```python\n",
    "        def minus(x, y):\n",
    "            result = x - y\n",
    "            return result\n",
    "\n",
    "        print(minus(9, 4))  # Output: 5\n",
    "        ```\n",
    "\n",
    "    - **Keyword Arguments:** Keyword arguments are passed by specifying the parameter names along with their values. This allows passing arguments in any order.\n",
    "\n",
    "        ```python\n",
    "        def greet(name, message):\n",
    "            print(f\"Hello, {name}! {message}\")\n",
    "\n",
    "        greet(message=\"How are you?\", name=\"Alice\")  # Output: Hello, Alice! How are you?\n",
    "        ```\n",
    "\n",
    "    - **Default Arguments:** allow defining a default value if the argument is not passed.\n",
    "\n",
    "        ```python\n",
    "        def greet(name=\"User\", message=\"Hello\"):\n",
    "            print(f\"{message}, {name}!\")\n",
    "\n",
    "        greet()  # Output: Hello, User!\n",
    "        greet(name=\"Alice\")  # Output: Hello, Alice!\n",
    "        ```\n",
    "\n",
    "    - __Variable-Length Positional Arguments (*args):__ `*args` allows a function to accept a variable number of positional arguments, which are collected into a **tuple**. You can use any name instead of `args`, but the `*` symbol is required.\n",
    "\n",
    "        ```python\n",
    "        def add_all(*args):\n",
    "            total = 0\n",
    "            for num in args:\n",
    "                total += num\n",
    "            return total\n",
    "\n",
    "        print(add_all(1, 2, 3, 4, 5))  # Output: 15\n",
    "        ```\n",
    "\n",
    "    - __Variable-Length Keyword Arguments (**kwargs):__ `**kwargs` allows a function to accept a variable number of keyword arguments, which are collected into a dictionary. You can use any name instead of `kwargs`, but the `**` symbol is required.\n",
    "\n",
    "        ```python\n",
    "        def print_kwargs(**kwargs):\n",
    "            for key, value in kwargs.items():\n",
    "                print(f\"{key}: {value}\")\n",
    "\n",
    "        print_kwargs(name=\"Alice\", age=30, city=\"New York\")\n",
    "        # Output:\n",
    "        # name: Alice\n",
    "        # age: 30\n",
    "        # city: New York\n",
    "        ```"
   ]
  },
  {
   "cell_type": "markdown",
   "metadata": {},
   "source": [
    "### 1.3. Function scope"
   ]
  },
  {
   "cell_type": "markdown",
   "metadata": {},
   "source": [
    "![Python Scope](img/python_scope.webp)\n",
    "\n",
    "- **Local Scope:**\n",
    "   - Variables defined inside a function are considered to be in the local scope.\n",
    "   - These variables are only accessible within that specific function.\n",
    "   - Local scope is also known as function scope.\n",
    "\n",
    "      ```python\n",
    "      def my_function():\n",
    "         local_variable = 10\n",
    "         print(local_variable)\n",
    "\n",
    "      my_function()\n",
    "      print(local_variable)  # Raises a NameError because 'local_variable' is not defined outside the function.\n",
    "      ```\n",
    "\n",
    "- **Enclosing (Non-Local) Scope:**\n",
    "   - If a variable is not found in the local scope of a function, Python looks for it in the enclosing (non-local) scope.\n",
    "   - Enclosing scope refers to the scope of the containing function if there is one, or the module-level scope if the function is defined at the top level of a module.\n",
    "\n",
    "      ```python\n",
    "      x = 10\n",
    "\n",
    "      def outer_function():\n",
    "         y = 5\n",
    "\n",
    "         def inner_function():\n",
    "            print(x)  # Accesses 'x' from the global scope.\n",
    "            print(y)  # Accesses 'y' from the enclosing (non-local) scope.\n",
    "\n",
    "         inner_function()\n",
    "\n",
    "      outer_function()\n",
    "   ```\n",
    "\n",
    "- **Global Scope:**\n",
    "   - Variables defined outside of all functions, at the top level of a module, are in the global scope.\n",
    "   - Global variables are accessible from any part of the module.\n",
    "\n",
    "      ```python\n",
    "      global_variable = 100\n",
    "\n",
    "      def my_function():\n",
    "         print(global_variable)  # Accesses 'global_variable' from the global scope.\n",
    "\n",
    "      my_function()\n",
    "      ```\n",
    "\n",
    "- **Built-in Scope:**\n",
    "   - Python also has a built-in scope that includes predefined names like `print()`, `len()`, and `int()`.\n",
    "   - These built-in names are accessible from any part of the code.\n",
    "\n",
    "      ```python\n",
    "      print(len(\"Hello, world!\"))  # Uses the built-in 'print' and 'len' functions.\n",
    "      ```\n",
    "\n",
    "- **Scope Hierarchy (LEGB Rule):**\n",
    "   - Python follows the LEGB rule to determine the order in which it searches for variables: Local, Enclosing, Global, and Built-in.\n",
    "   - It starts by looking in the local scope and then progressively searches in higher-level scopes until the variable is found or it reaches the built-in scope.\n",
    "\n",
    "- **Modifying Variables in Different Scopes:**\n",
    "   - If you want to modify a global variable from within a function, you need to declare it as `global`.\n",
    "   - If you assign a value to a variable within a function without declaring it as `global`, Python creates a new local variable with that name instead of modifying the global one.\n",
    "\n",
    "      ```python\n",
    "      global_var = 10\n",
    "\n",
    "      def modify_global():\n",
    "         global global_var\n",
    "         global_var = 20\n",
    "\n",
    "      modify_global()\n",
    "      print(global_var)  # Output: 20\n",
    "      ```"
   ]
  },
  {
   "cell_type": "markdown",
   "metadata": {},
   "source": [
    "**EXERCISE: Scope and Variable Modification**\n",
    "\n",
    "Write a Python program that consists of the following components:\n",
    "\n",
    "1. Define a global variable `global_var` with an initial value of `10`.\n",
    "\n",
    "2. Create a function called `modify_variable` that takes a parameter `x` and modifies it within the function. Inside the function, increment `x` by `5`. Print `x`.\n",
    "\n",
    "3. Create another function called `local_variable` that defines a local variable `local_var` with an initial value of `20`. Print the value of `local_var` within the function.\n",
    "\n",
    "4. Write a third function called `access_global_variable` that attempts to access and print the value of `global_var` from within the function.\n",
    "\n",
    "5. Write a fourth function called `modify_global_var` that takes a parameter `x` and update the `global_var` with the value of x\n",
    "\n",
    "6. Call the `modify_variable` function and pass `global_var` as an argument. Then, print the value of `global_var` after calling the function.\n",
    "\n",
    "7. Call the `local_variable` function and observe the scope of `local_var`. Print the value of `local_var` both within and outside the function and see what happen.\n",
    "\n",
    "8. Call the `access_global_variable` function and observe if it can access the `global_var` correctly.\n",
    "\n",
    "9. Call the `modify_global_variable` function with `x` = 99,print the `global_var` after calling the function and observe if it can modify the `global_var` correctly.\n"
   ]
  },
  {
   "cell_type": "code",
   "execution_count": 1,
   "metadata": {},
   "outputs": [
    {
     "name": "stdout",
     "output_type": "stream",
     "text": [
      "99\n"
     ]
    }
   ],
   "source": [
    "# 1.\n",
    "global_var = 10\n",
    "\n",
    "# 2.\n",
    "def modify_variable(x):\n",
    "    x += 5\n",
    "    print(f\"Modify x to: {x}\")\n",
    "\n",
    "# 3.\n",
    "def local_variable():\n",
    "    x = 20\n",
    "    print(f\"Local variable: {x}\")\n",
    "\n",
    "# 4.\n",
    "def access_global_variable():\n",
    "    print(global_var)\n",
    "\n",
    "# 5.\n",
    "def modify_global_variable(x):\n",
    "    global global_var\n",
    "    global_var = x\n",
    "\n",
    "# 6.\n",
    "modify_global_variable(99)\n",
    "print(global_var)"
   ]
  },
  {
   "cell_type": "markdown",
   "metadata": {},
   "source": [
    "### 1.4. Docstrings\n",
    "\n",
    "In Python, a docstring is a special type of string that serves as documentation for functions, classes, methods, and modules.\n",
    "\n",
    "- **Purpose of Docstrings:**\n",
    "   - Docstrings are a way to provide human-readable documentation for your code.\n",
    "   - They help developers understand the purpose and usage of functions, classes, and modules.\n",
    "   - They are especially valuable for code maintainability, collaboration, and for generating automatic documentation.\n",
    "\n",
    "- **Syntax of Docstrings:**\n",
    "   - Docstrings are enclosed in triple quotes (either single or double) immediately after the definition of a function, class, method, or module.\n",
    "   - The convention is to use triple double quotes (`\"\"\"`) for docstrings to accommodate multiline documentation.\n",
    "\n",
    "        ```python\n",
    "        def my_function(param1, param2):\n",
    "            \"\"\"\n",
    "            This is a docstring for my_function.\n",
    "\n",
    "            Args:\n",
    "                param1: Description of the first parameter.\n",
    "                param2: Description of the second parameter.\n",
    "\n",
    "            Returns:\n",
    "                Description of the return value.\n",
    "\n",
    "            Raises:\n",
    "                Description of exceptions raised, if any.\n",
    "            \"\"\"\n",
    "            # Function code here\n",
    "        ```\n",
    "\n",
    "- **Docstring Sections:**\n",
    "    - **Description**: A brief summary of the function's purpose and behavior.\n",
    "    - **Args**: Descriptions of the function's parameters.\n",
    "    - **Returns**: Explanation of the return value or what the function returns.\n",
    "    - **Raises**: Description of exceptions that may be raised.\n",
    "    - Additional sections like \"Examples,\" \"Note,\" or \"References\" may also be included.\n",
    "\n",
    "- **Accessing Docstrings:** You can access the docstring of a function, class, or module using the `.__doc__` attribute.\n",
    "\n",
    "   ```python\n",
    "   print(my_function.__doc__)\n",
    "   ```\n",
    "\n",
    "- **Writing Good Docstrings:**\n",
    "    - Be clear, concise, and descriptive in your docstrings.\n",
    "    - Use proper formatting, such as line breaks and indentation, for readability.\n",
    "    - Follow a consistent style guide (e.g., PEP 257) to maintain a unified documentation style across your codebase.\n",
    "    - Include examples or usage scenarios whenever possible to illustrate how to use the code.\n",
    "\n",
    "\n",
    "- **PEP 257: Docstring Conventions:**\n",
    "    - [PEP 257](https://peps.python.org/pep-0257/) provides detailed guidelines for writing docstrings in a consistent and readable manner.\n",
    "    - Following PEP 257 conventions can help ensure that your docstrings are clear and easy to understand.\n",
    "\n",
    "Example of a PEP 257-compliant docstring:\n",
    "\n",
    "```python\n",
    "def calculate_average(numbers):\n",
    "    \"\"\"\n",
    "    Calculate the average of a list of numbers.\n",
    "\n",
    "    Args:\n",
    "        numbers (list of float): A list of numbers to calculate the average from.\n",
    "\n",
    "    Returns:\n",
    "        float: The average of the input numbers.\n",
    "\n",
    "    Raises:\n",
    "        ValueError: If the input list is empty.\n",
    "    \"\"\"\n",
    "    if not numbers:\n",
    "        raise ValueError(\"Input list is empty\")\n",
    "    return sum(numbers) / len(numbers)\n",
    "```"
   ]
  },
  {
   "cell_type": "markdown",
   "metadata": {},
   "source": [
    "### 1.5. Lambda Functions:\n",
    "\n",
    "A Python lambda function is a small, anonymous function defined using the `lambda` keyword. Lambda functions are also known as anonymous functions or lambda expressions. They are used when you need a simple, short function for a specific purpose, and you don't want to go through the process of defining a full-fledged named function using the `def` keyword.\n",
    "\n",
    "- **Syntax of Lambda Functions:**\n",
    "   - The basic syntax of a lambda function is as follows:\n",
    "   \n",
    "   ```python\n",
    "   lambda arguments: expression\n",
    "   ```\n",
    "\n",
    "- **Anonymous Functions:**\n",
    "   - Lambda functions are anonymous because they do not have a name.\n",
    "   - They are typically used for small, one-time operations where defining a named function would be unnecessary.\n",
    "\n",
    "- **Single Expression:**\n",
    "   - Lambda functions can contain only a single expression, which is evaluated and returned as the result of the function.\n",
    "   - The expression should not contain statements or multiple expressions.\n",
    "\n",
    "- **Use Cases:**\n",
    "   - Lambda functions are often used as arguments to higher-order functions like `map()`, `filter()`, and `sorted()`.\n",
    "   - They are useful for creating short, throwaway functions for specific tasks.\n",
    "\n",
    "- **Examples of Lambda Functions:**\n",
    "\n",
    "   - **Example 1: Adding Two Numbers**\n",
    "   \n",
    "     ```python\n",
    "     add = lambda x, y: x + y\n",
    "     result = add(3, 4)  # result will be 7\n",
    "     ```\n",
    "\n",
    "   - **Example 2: Squaring a Number**\n",
    "   \n",
    "     ```python\n",
    "     square = lambda x: x ** 2\n",
    "     result = square(5)  # result will be 25\n",
    "     ```\n",
    "\n",
    "   - **Example 3: Sorting a List of Tuples by the Second Element**\n",
    "   \n",
    "     ```python\n",
    "     data = [(1, 5), (3, 2), (2, 8)]\n",
    "     sorted_data = sorted(data, key=lambda x: x[1])\n",
    "     # sorted_data will be [(3, 2), (1, 5), (2, 8)]\n",
    "     ```\n",
    "\n",
    "- **Using Lambda Functions with Higher-Order Functions:**\n",
    "   - Lambda functions are commonly used with functions that accept other functions as arguments.\n",
    "   - For example, the `map()` function can be used with a lambda function to apply an operation to each element of a list.\n",
    "\n",
    "   ```python\n",
    "   numbers = [1, 2, 3, 4, 5]\n",
    "   squared = list(map(lambda x: x ** 2, numbers))\n",
    "   # squared will be [1, 4, 9, 16, 25]\n",
    "   ```\n",
    "\n",
    "-  **Limitations:**\n",
    "   - Lambda functions are limited in complexity because they can contain only a single expression.\n",
    "   - They are not suitable for functions with multiple statements or complex logic.\n",
    "\n",
    "- **Readability Considerations:**\n",
    "   - While lambda functions can be concise, they should not be used for very complex operations, as they can reduce code readability.\n",
    "   - For more complex tasks, it's often better to define a named function using `def` for clarity.\n",
    "\n",
    "- **No Return Statement:**\n",
    "   - Lambda functions do not have a `return` statement; they automatically return the result of the expression they contain."
   ]
  },
  {
   "cell_type": "markdown",
   "metadata": {},
   "source": [
    "**EXERCISE: Data Analysis - Movie Ratings**\n",
    "\n",
    "In this exercise, you will analyze a dataset containing movie ratings. The dataset is in a .txt file format where each line contains the name of a movie, its rating, and the number of user reviews. Your task is to read this dataset, perform various analyses using functions, and answer some questions.\n",
    "\n",
    "**Dataset Format (movies.txt):**\n",
    "```\n",
    "Movie1,8.5,120\n",
    "Movie2,7.9,95\n",
    "Movie3,6.8,150\n",
    "...\n",
    "\n",
    "(Each line has the format: Movie Name, Rating, Number of Reviews)\n",
    "```\n",
    "\n",
    "**Questions:**\n",
    "\n",
    "1. Write a function called `load_movie_data` that reads the dataset from 'txt/movies.txt' (provided separately) and returns a list of dictionaries. Each dictionary should represent a movie with keys for 'name', 'rating', and 'reviews'. Use a lambda function to convert rating and reviews to float and integer, respectively.\n",
    "\n",
    "2. Write a function called `average_rating` that takes the movie data (list of dictionaries) as input and returns the average rating of all movies.\n",
    "\n",
    "3. Write a function called `highest_rated_movie` that takes the movie data as input and returns the name of the movie with the highest rating.\n",
    "\n",
    "4. Write a function called `most_reviews_movie` that takes the movie data as input and returns the name of the movie with the most reviews.\n",
    "\n",
    "5. Write a function called `movies_above_rating` that takes the movie data and a minimum rating as input and returns a list of movie names that have a rating above or equal to the specified minimum rating."
   ]
  },
  {
   "cell_type": "code",
   "execution_count": 2,
   "metadata": {},
   "outputs": [
    {
     "name": "stdout",
     "output_type": "stream",
     "text": [
      "Movie data: [{'name': 'Movie1', 'rating': 8.5, 'review': 120}, {'name': 'Movie2', 'rating': 7.9, 'review': 95}, {'name': 'Movie3', 'rating': 6.8, 'review': 150}]\n"
     ]
    }
   ],
   "source": [
    "def load_movie_data(file_path):\n",
    "    data = []\n",
    "    try:\n",
    "        with open(file_path, \"r\") as file:\n",
    "            lines = file.readlines()\n",
    "            for line in lines:\n",
    "                movie = line.split(\",\")\n",
    "                data.append({\n",
    "                    \"name\": movie[0],\n",
    "                    \"rating\": float(movie[1]),\n",
    "                    \"review\": int(movie[2])\n",
    "                })\n",
    "    except Exception as err:\n",
    "        print(err)\n",
    "    else:\n",
    "        return data\n",
    "    \n",
    "movie_data = load_movie_data('txt/movies.txt')\n",
    "print(f\"Movie data: {movie_data}\")"
   ]
  },
  {
   "cell_type": "code",
   "execution_count": 5,
   "metadata": {},
   "outputs": [
    {
     "name": "stdout",
     "output_type": "stream",
     "text": [
      "Averaged rating: 7.7333\n"
     ]
    }
   ],
   "source": [
    "def average_rating(movie_data):\n",
    "    total = 0\n",
    "    for movie in movie_data:\n",
    "        total += movie[\"rating\"]\n",
    "    return total / len(movie_data)\n",
    "\n",
    "average = average_rating(movie_data)\n",
    "print(f\"Averaged rating: {average:.4f}\")"
   ]
  },
  {
   "cell_type": "code",
   "execution_count": 6,
   "metadata": {},
   "outputs": [
    {
     "name": "stdout",
     "output_type": "stream",
     "text": [
      "Highest rated movie: Movie1\n"
     ]
    }
   ],
   "source": [
    "def highest_rated_movie(movie_data):\n",
    "    highest_rated = max(movie_data, key=lambda x: x[\"rating\"])\n",
    "    return highest_rated[\"name\"]\n",
    "\n",
    "highest = highest_rated_movie(movie_data)\n",
    "print(f\"Highest rated movie: {highest}\")"
   ]
  },
  {
   "cell_type": "code",
   "execution_count": 7,
   "metadata": {},
   "outputs": [
    {
     "name": "stdout",
     "output_type": "stream",
     "text": [
      "Most reviewed movie: Movie3\n"
     ]
    }
   ],
   "source": [
    "def most_reviews_movie(movie_data):\n",
    "    most_reviewed = max(movie_data, key=lambda x: x[\"review\"])\n",
    "    return most_reviewed[\"name\"]\n",
    "\n",
    "most_reviewed = most_reviews_movie(movie_data)\n",
    "print(f\"Most reviewed movie: {most_reviewed}\")"
   ]
  },
  {
   "cell_type": "code",
   "execution_count": 10,
   "metadata": {},
   "outputs": [
    {
     "name": "stdout",
     "output_type": "stream",
     "text": [
      "Movies above rating: ['Movie1', 'Movie2']\n"
     ]
    }
   ],
   "source": [
    "def movies_above_rating(movie_data, min_rating):\n",
    "    filtered_movies = [movie[\"name\"] for movie in movie_data if movie[\"rating\"] >= min_rating]\n",
    "    return filtered_movies\n",
    "\n",
    "above = movies_above_rating(movie_data, min_rating=7.0)\n",
    "print(f\"Movies above rating: {above}\")"
   ]
  },
  {
   "cell_type": "markdown",
   "metadata": {},
   "source": [
    "**EXERCISE: Student Grade Analysis**\n",
    "\n",
    "Write a Python program that performs analysis on a list of student grades. The program should include the following functionalities:\n",
    "\n",
    "1. Create a function called `calculate_average` that takes a list of student grades as input and returns the average grade.\n",
    "   \n",
    "2. Create a function called `find_highest_grade` that takes the same list of grades and returns the highest grade.\n",
    "\n",
    "3. Create a function called `convert_to_letter_grade` to calculate the letter grade for a given numeric grade using the following scale:\n",
    "   - A: 90-100\n",
    "   - B: 80-89\n",
    "   - C: 70-79\n",
    "   - D: 60-69\n",
    "   - F: 0-59\n",
    "\n",
    "5. Create a function called `assign_letter_grades` that takes the list of student names and grades and returns a dictionary where the keys are student names, and the values are their corresponding letter grades.\n",
    "\n",
    "6. Create a function called `get_final_result` that takes the list of student names and grades and returns a dictionary where the keys are student names, and the values are their corresponding final result (\"passed\" if grade >=75, otherwise, \"failed\")\n",
    "\n",
    "6. Create a function called `report` and use the functions you've defined to print out the following information:\n",
    "   - The average grade for all students.\n",
    "   - The highest grade achieved.\n",
    "   - The names of students who passed. \n",
    "   - The letter grades assigned to each student."
   ]
  },
  {
   "cell_type": "code",
   "execution_count": 11,
   "metadata": {},
   "outputs": [],
   "source": [
    "# YOUR CODE\n",
    "\n",
    "# Sample dataset\n",
    "students = [\n",
    "    (\"Alice\", 92),\n",
    "    (\"Bob\", 78),\n",
    "    (\"Charlie\", 88),\n",
    "    (\"David\", 65),\n",
    "    (\"Eve\", 75)\n",
    "]"
   ]
  },
  {
   "cell_type": "code",
   "execution_count": 13,
   "metadata": {},
   "outputs": [
    {
     "data": {
      "text/plain": [
       "79.6"
      ]
     },
     "execution_count": 13,
     "metadata": {},
     "output_type": "execute_result"
    }
   ],
   "source": [
    "def calculate_average(students):\n",
    "    total = 0\n",
    "    for student in students:\n",
    "        total += student[1]\n",
    "    return total / len(students)\n",
    "\n",
    "calculate_average(students)"
   ]
  },
  {
   "cell_type": "code",
   "execution_count": 14,
   "metadata": {},
   "outputs": [
    {
     "data": {
      "text/plain": [
       "92"
      ]
     },
     "execution_count": 14,
     "metadata": {},
     "output_type": "execute_result"
    }
   ],
   "source": [
    "def find_highest_grade(students):\n",
    "    highest = max(students, key=lambda student: student[1])\n",
    "    return highest[1]\n",
    "\n",
    "find_highest_grade(students)"
   ]
  },
  {
   "cell_type": "code",
   "execution_count": 15,
   "metadata": {},
   "outputs": [
    {
     "data": {
      "text/plain": [
       "['A', 'C', 'B', 'D', 'C']"
      ]
     },
     "execution_count": 15,
     "metadata": {},
     "output_type": "execute_result"
    }
   ],
   "source": [
    "def convert_one_grade(student_grade: int):\n",
    "    convert_table = {\n",
    "        \"A\": (90, 100),\n",
    "        \"B\": (80, 89),\n",
    "        \"C\": (70,79),\n",
    "        \"D\": (60, 69),\n",
    "        \"F\": (0, 59)\n",
    "    }\n",
    "    for letter, grades in convert_table.items():\n",
    "        if student_grade >= grades[0] and student_grade <= grades[1]:\n",
    "            return letter\n",
    "\n",
    "\n",
    "def convert_to_letter_grade(students):  \n",
    "    converted = [convert_one_grade(student[1]) for student in students]\n",
    "    return converted\n",
    "\n",
    "convert_to_letter_grade(students)\n",
    "\n"
   ]
  },
  {
   "cell_type": "code",
   "execution_count": 24,
   "metadata": {},
   "outputs": [
    {
     "data": {
      "text/plain": [
       "[('Alice', 'A'), ('Bob', 'C'), ('Charlie', 'B'), ('David', 'D'), ('Eve', 'C')]"
      ]
     },
     "execution_count": 24,
     "metadata": {},
     "output_type": "execute_result"
    }
   ],
   "source": [
    "def assign_letter_grade(students):\n",
    "    result = []\n",
    "\n",
    "    for i in range(len(students)):\n",
    "        new_data = (students[i][0], convert_one_grade(students[i][1]))\n",
    "        result.append(new_data)\n",
    "    return result\n",
    "\n",
    "assign_letter_grade(students)"
   ]
  },
  {
   "cell_type": "code",
   "execution_count": 20,
   "metadata": {},
   "outputs": [
    {
     "data": {
      "text/plain": [
       "{'Alice': 'passed',\n",
       " 'Bob': 'passed',\n",
       " 'Charlie': 'passed',\n",
       " 'David': 'failed',\n",
       " 'Eve': 'passed'}"
      ]
     },
     "execution_count": 20,
     "metadata": {},
     "output_type": "execute_result"
    }
   ],
   "source": [
    "def get_final_result(students):\n",
    "    return {student[0]: \"passed\" if student[1] >= 75 else \"failed\" for student in students}\n",
    "\n",
    "get_final_result(students)"
   ]
  },
  {
   "cell_type": "code",
   "execution_count": 23,
   "metadata": {},
   "outputs": [
    {
     "name": "stdout",
     "output_type": "stream",
     "text": [
      "Average grade: 79.6\n",
      "Highest grade: 92\n",
      "Students who passed: ['Alice', 'Bob', 'Charlie', 'Eve']\n",
      "Letter grade of students: {'Alice': 'A', 'Bob': 'C', 'Charlie': 'B', 'David': 'D', 'Eve': 'C'}\n"
     ]
    }
   ],
   "source": [
    "def report(students):\n",
    "    print(f\"Average grade: {calculate_average(students)}\")\n",
    "    print(f\"Highest grade: {find_highest_grade(students)}\")\n",
    "    final_results = get_final_result(students)\n",
    "    passed = [name for name, result in final_results.items() if result == \"passed\"]\n",
    "    print(f\"Students who passed: {passed}\")\n",
    "    print(f\"Letter grade of students: {dict(assign_letter_grade(students))}\")\n",
    "\n",
    "report(students)"
   ]
  },
  {
   "cell_type": "markdown",
   "metadata": {},
   "source": [
    "**REFERENCE**\n",
    "\n",
    "1. [DataCamp](https://www.datacamp.com/tutorial/scope-of-variables-python)\n",
    "2. [PEP 257](https://peps.python.org/pep-0257/)"
   ]
  }
 ],
 "metadata": {
  "kernelspec": {
   "display_name": "Python 3",
   "language": "python",
   "name": "python3"
  },
  "language_info": {
   "codemirror_mode": {
    "name": "ipython",
    "version": 3
   },
   "file_extension": ".py",
   "mimetype": "text/x-python",
   "name": "python",
   "nbconvert_exporter": "python",
   "pygments_lexer": "ipython3",
   "version": "3.9.6"
  },
  "orig_nbformat": 4
 },
 "nbformat": 4,
 "nbformat_minor": 2
}
