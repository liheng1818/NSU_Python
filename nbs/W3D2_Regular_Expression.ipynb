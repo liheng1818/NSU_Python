{
 "cells": [
  {
   "cell_type": "markdown",
   "metadata": {},
   "source": [
    "# Regular Expressions"
   ]
  },
  {
   "cell_type": "markdown",
   "metadata": {},
   "source": [
    "### 1. Basic Pattern Matching\n",
    "\n",
    "Regular expressions are used to search for specific patterns in text. You define a pattern using a combination of characters, metacharacters, and special sequences."
   ]
  },
  {
   "cell_type": "code",
   "execution_count": 37,
   "metadata": {},
   "outputs": [],
   "source": [
    "import re"
   ]
  },
  {
   "cell_type": "code",
   "execution_count": 49,
   "metadata": {},
   "outputs": [
    {
     "name": "stdout",
     "output_type": "stream",
     "text": [
      "Type of pattern: <class 'str'>\n",
      "Pattern: The\n",
      "Type of match: <class 're.Match'>\n",
      "Match: <re.Match object; span=(0, 3), match='The'>\n",
      "0 3 The\n"
     ]
    }
   ],
   "source": [
    "string =  \"The curious cat, known for its agility and independence, prowled the garden in search of adventure. With a swift leap, the cat pounced on a fallen leaf, a momentary victory in its playful escapade. Nearby, a second cat observed the scene, its eyes fixed on the first cat's antics. Suddenly, a third cat appeared, joining the playful duo, and together they formed a trio of frolicking felines. As the sun began to set, the cats' energy waned, and they settled down for a well-deserved catnap under the shade of a tall oak tree.\"\n",
    "pattern = \"The\"\n",
    "match = re.match(pattern, string)\n",
    "\n",
    "print(f\"Type of pattern: {type(pattern)}\")\n",
    "print(f\"Pattern: {pattern}\")\n",
    "print(f\"Type of match: {type(match)}\")\n",
    "print(f\"Match: {match}\")\n",
    "print(match.start(), match.end(), match.group())"
   ]
  },
  {
   "cell_type": "code",
   "execution_count": 50,
   "metadata": {},
   "outputs": [
    {
     "name": "stdout",
     "output_type": "stream",
     "text": [
      "Match: None\n",
      "Search: <re.Match object; span=(12, 15), match='cat'>\n"
     ]
    }
   ],
   "source": [
    "# re.match() only search from the beginning while re.search() scan through the entire string\n",
    "\n",
    "string = \"The curious cat, known for its agility and independence, prowled the garden in search of adventure. With a swift leap, the cat pounced on a fallen leaf, a momentary victory in its playful escapade. Nearby, a second cat observed the scene, its eyes fixed on the first cat's antics. Suddenly, a third cat appeared, joining the playful duo, and together they formed a trio of frolicking felines. As the sun began to set, the cats' energy waned, and they settled down for a well-deserved catnap under the shade of a tall oak tree.\"\n",
    "pattern = \"cat\"\n",
    "match = re.match(pattern, string)\n",
    "print(f\"Match: {match}\")\n",
    "search = re.search(pattern, string)\n",
    "print(f\"Search: {search}\")"
   ]
  },
  {
   "cell_type": "code",
   "execution_count": 52,
   "metadata": {},
   "outputs": [
    {
     "name": "stdout",
     "output_type": "stream",
     "text": [
      "Type of pattern: <class 're.Pattern'>\n",
      "Pattern: re.compile('The')\n",
      "Type of match: <class 're.Match'>\n",
      "Match: <re.Match object; span=(0, 3), match='The'>\n",
      "0 3 The\n"
     ]
    }
   ],
   "source": [
    "# re.compile()\n",
    "\n",
    "string = \"The curious cat, known for its agility and independence, prowled the garden in search of adventure. With a swift leap, the cat pounced on a fallen leaf, a momentary victory in its playful escapade. Nearby, a second cat observed the scene, its eyes fixed on the first cat's antics. Suddenly, a third cat appeared, joining the playful duo, and together they formed a trio of frolicking felines. As the sun began to set, the cats' energy waned, and they settled down for a well-deserved catnap under the shade of a tall oak tree.\"\n",
    "pattern = re.compile(\"The\")\n",
    "match = re.match(pattern, string)\n",
    "\n",
    "print(f\"Type of pattern: {type(pattern)}\")\n",
    "print(f\"Pattern: {pattern}\")\n",
    "print(f\"Type of match: {type(match)}\")\n",
    "print(f\"Match: {match}\")\n",
    "print(match.start(), match.end(), match.group())"
   ]
  },
  {
   "cell_type": "code",
   "execution_count": 48,
   "metadata": {},
   "outputs": [
    {
     "name": "stdout",
     "output_type": "stream",
     "text": [
      "Found: ['cat', 'cat', 'cat', 'cat', 'cat', 'cat', 'cat']\n"
     ]
    }
   ],
   "source": [
    "# re.findall()\n",
    "\n",
    "string = \"The curious cat, known for its agility and independence, prowled the garden in search of adventure. With a swift leap, the cat pounced on a fallen leaf, a momentary victory in its playful escapade. Nearby, a second cat observed the scene, its eyes fixed on the first cat's antics. Suddenly, a third cat appeared, joining the playful duo, and together they formed a trio of frolicking felines. As the sun began to set, the cats' energy waned, and they settled down for a well-deserved catnap under the shade of a tall oak tree.\"\n",
    "\n",
    "pattern = re.compile(\"cat\")\n",
    "matches = re.findall(pattern, string)\n",
    "\n",
    "if matches:\n",
    "    print(f\"Found: {matches}\")\n",
    "else:\n",
    "    print(\"Pattern not found.\")"
   ]
  },
  {
   "cell_type": "code",
   "execution_count": 58,
   "metadata": {},
   "outputs": [
    {
     "data": {
      "text/plain": [
       "['coconut', ' durian', ' papaya', ' lychee']"
      ]
     },
     "execution_count": 58,
     "metadata": {},
     "output_type": "execute_result"
    }
   ],
   "source": [
    "# split text based on pattern\n",
    "\n",
    "string = \"coconut, durian, papaya; lychee\"\n",
    "pattern = re.compile(\"[,;]\")\n",
    "texts = re.split(pattern, string)\n",
    "texts"
   ]
  },
  {
   "cell_type": "markdown",
   "metadata": {},
   "source": [
    "### 1.2. Metacharacters & Character classes"
   ]
  },
  {
   "cell_type": "markdown",
   "metadata": {},
   "source": [
    "Metacharacters like `.`, `*`, `+`, `?`, `[]`, `()`, `|`, `^`, and `$` have special meanings in regular expressions and are used to specify the behavior of the pattern.\n",
    "\n",
    "- The **square brackets ([])** character class define a character class, allowing you to match any one character from a set. For example, `[aeiou]` matches any vowel."
   ]
  },
  {
   "cell_type": "code",
   "execution_count": 82,
   "metadata": {},
   "outputs": [
    {
     "name": "stdout",
     "output_type": "stream",
     "text": [
      "Vowels: ['e', 'u', 'i', 'o', 'o', 'u', 'o', 'e', 'e', 'a', 'o']\n"
     ]
    }
   ],
   "source": [
    "pattern = \"[aeiou]\"\n",
    "string = \"The quick brown fox jumps over the lazy dog.\"\n",
    "vowels = re.findall(pattern, string)\n",
    "print(f\"Vowels: {vowels}\")"
   ]
  },
  {
   "cell_type": "code",
   "execution_count": 96,
   "metadata": {},
   "outputs": [
    {
     "name": "stdout",
     "output_type": "stream",
     "text": [
      "+79131234567\n"
     ]
    }
   ],
   "source": [
    "# Matching a range of character\n",
    "string = \"Call me by this number +79131234567\"\n",
    "pattern = \"[\\+0-9]\"\n",
    "matches = re.findall(pattern, string)\n",
    "\n",
    "if matches:\n",
    "    print(\"\".join(matches))"
   ]
  },
  {
   "cell_type": "code",
   "execution_count": null,
   "metadata": {},
   "outputs": [],
   "source": [
    "# EXERCISE\n",
    "# Use re library to count number of vowels and number of consonants in this string\n",
    "string = \"The quick brown fox jumps over the lazy dog.\""
   ]
  },
  {
   "cell_type": "markdown",
   "metadata": {},
   "source": [
    "- **Anchors**: Anchors like `^` (start of a line) and `$` (end of a line) are used to specify where in the text a match should occur."
   ]
  },
  {
   "cell_type": "code",
   "execution_count": 98,
   "metadata": {},
   "outputs": [
    {
     "name": "stdout",
     "output_type": "stream",
     "text": [
      "'my_variable' is valid.\n",
      "'123invalid' is invalid.\n",
      "'_underscore' is valid.\n",
      "'name_with$pecial_chars' is invalid.\n"
     ]
    }
   ],
   "source": [
    "import re\n",
    "\n",
    "def is_valid_variable_name(variable_name):\n",
    "    # Define the regular expression pattern\n",
    "    pattern = re.compile(\"^[a-zA-Z_][a-zA-Z0-9_]*$\")\n",
    "\n",
    "    # Use re.match() to check if the entire string matches the pattern\n",
    "    match = re.match(pattern, variable_name)\n",
    "\n",
    "    return match is not None\n",
    "\n",
    "# Test the function with some variable names\n",
    "variable_names = [\"my_variable\", \"123invalid\", \"_underscore\", \"name_with$pecial_chars\"]\n",
    "\n",
    "for name in variable_names:\n",
    "    if is_valid_variable_name(name):\n",
    "        print(f\"'{name}' is valid.\")\n",
    "    else:\n",
    "        print(f\"'{name}' is invalid.\")\n"
   ]
  },
  {
   "cell_type": "markdown",
   "metadata": {},
   "source": [
    "- **Flags**: Flags, such as `re.IGNORECASE`, can be used to modify the behavior of the regular expression matching. For example, `re.IGNORECASE` makes the matching case-insensitive."
   ]
  },
  {
   "cell_type": "code",
   "execution_count": 111,
   "metadata": {},
   "outputs": [
    {
     "name": "stdout",
     "output_type": "stream",
     "text": [
      "Without IGNORECASE flag:\n",
      "[]\n",
      "\n",
      "With IGNORECASE flag:\n",
      "['Fox']\n"
     ]
    }
   ],
   "source": [
    "# Sample text containing words in different case variations\n",
    "text = \"The quick brown Fox jumped over the LAZY Dog.\"\n",
    "\n",
    "# Regular expression pattern to match \"fox\" in a case-insensitive manner\n",
    "pattern = r'fox'\n",
    "\n",
    "# Use re.findall() without the flag\n",
    "matches_without_flag = re.findall(pattern, text)\n",
    "print(\"Without IGNORECASE flag:\")\n",
    "print(matches_without_flag)\n",
    "\n",
    "# Use re.findall() with the IGNORECASE flag\n",
    "matches_with_flag = re.findall(pattern, text, flags=re.IGNORECASE)\n",
    "print(\"\\nWith IGNORECASE flag:\")\n",
    "print(matches_with_flag)\n"
   ]
  },
  {
   "cell_type": "markdown",
   "metadata": {},
   "source": [
    "# REFERENCES\n",
    "\n",
    "1. [Python Docs](https://docs.python.org/3/howto/regex.html#regex-howto)"
   ]
  },
  {
   "cell_type": "markdown",
   "metadata": {},
   "source": []
  }
 ],
 "metadata": {
  "kernelspec": {
   "display_name": "Python 3",
   "language": "python",
   "name": "python3"
  },
  "language_info": {
   "codemirror_mode": {
    "name": "ipython",
    "version": 3
   },
   "file_extension": ".py",
   "mimetype": "text/x-python",
   "name": "python",
   "nbconvert_exporter": "python",
   "pygments_lexer": "ipython3",
   "version": "3.9.6"
  },
  "orig_nbformat": 4
 },
 "nbformat": 4,
 "nbformat_minor": 2
}
