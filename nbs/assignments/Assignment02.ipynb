{
 "cells": [
  {
   "cell_type": "markdown",
   "metadata": {},
   "source": [
    "# Graded Assignment 02\n",
    "\n",
    "Date: 28.09.2023"
   ]
  },
  {
   "cell_type": "markdown",
   "metadata": {
    "vscode": {
     "languageId": "plaintext"
    }
   },
   "source": [
    "# 1.\n",
    "\n",
    "Given a paragraph, calculate the word frequency by creating a `dictionary` where the `keys` are the `unique words` from the text, and the `values` are the `lengths of those words`.\n",
    "\n",
    "**NOTE**\n",
    "- Remove comma (,) and dot (.)\n",
    "- Case-insensitive ('the' or 'The' are the same)"
   ]
  },
  {
   "cell_type": "code",
   "execution_count": 11,
   "metadata": {},
   "outputs": [],
   "source": [
    "paragraph = \"Borscht, a quintessential Russian dish, is a true culinary masterpiece that captivates the senses with its vibrant flavors and rich history. This hearty soup embodies the essence of Russian cuisine, offering a delightful blend of sweet and savory notes that leave a lasting impression. A steaming bowl of borscht features tender chunks of beef or pork, simmered to perfection, accompanied by an array of root vegetables like beets, carrots, and potatoes. The star of the show, however, is undoubtedly the beetroot, infusing the broth with its deep crimson hue and earthy sweetness. This harmonious medley is enhanced by a touch of sour cream, adding a creamy contrast to the robust flavors. What truly sets borscht apart is its cultural significance. It has been a staple in Russian households for generations, symbolizing warmth and hospitality. Whether enjoyed during the frigid winters or as a refreshing chilled summer soup, borscht is a testament to Russia's culinary artistry, inviting all who taste it to savor a piece of its rich heritage.\""
   ]
  },
  {
   "cell_type": "code",
   "execution_count": 12,
   "metadata": {},
   "outputs": [
    {
     "name": "stdout",
     "output_type": "stream",
     "text": [
      "{'borscht': 4, 'a': 11, 'quintessential': 1, 'russian': 3, 'dish': 1, 'is': 5, 'true': 1, 'culinary': 2, 'masterpiece': 1, 'that': 2, 'captivates': 1, 'the': 8, 'senses': 1, 'with': 2, 'its': 4, 'vibrant': 1, 'flavors': 2, 'and': 5, 'rich': 2, 'history': 1, 'this': 2, 'hearty': 1, 'soup': 2, 'embodies': 1, 'essence': 1, 'of': 8, 'cuisine': 1, 'offering': 1, 'delightful': 1, 'blend': 1, 'sweet': 1, 'savory': 1, 'notes': 1, 'leave': 1, 'lasting': 1, 'impression': 1, 'steaming': 1, 'bowl': 1, 'features': 1, 'tender': 1, 'chunks': 1, 'beef': 1, 'or': 2, 'pork': 1, 'simmered': 1, 'to': 4, 'perfection': 1, 'accompanied': 1, 'by': 2, 'an': 1, 'array': 1, 'root': 1, 'vegetables': 1, 'like': 1, 'beets': 1, 'carrots': 1, 'potatoes': 1, 'star': 1, 'show': 1, 'however': 1, 'undoubtedly': 1, 'beetroot': 1, 'infusing': 1, 'broth': 1, 'deep': 1, 'crimson': 1, 'hue': 1, 'earthy': 1, 'sweetness': 1, 'harmonious': 1, 'medley': 1, 'enhanced': 1, 'touch': 1, 'sour': 1, 'cream': 1, 'adding': 1, 'creamy': 1, 'contrast': 1, 'robust': 1, 'what': 1, 'truly': 1, 'sets': 1, 'apart': 1, 'cultural': 1, 'significance': 1, 'it': 2, 'has': 1, 'been': 1, 'staple': 1, 'in': 1, 'households': 1, 'for': 1, 'generations': 1, 'symbolizing': 1, 'warmth': 1, 'hospitality': 1, 'whether': 1, 'enjoyed': 1, 'during': 1, 'frigid': 1, 'winters': 1, 'as': 1, 'refreshing': 1, 'chilled': 1, 'summer': 1, 'testament': 1, \"russia's\": 1, 'artistry': 1, 'inviting': 1, 'all': 1, 'who': 1, 'taste': 1, 'savor': 1, 'piece': 1, 'heritage': 1}\n"
     ]
    }
   ],
   "source": [
    "result = {}\n",
    "\n",
    "# YOUR CODE\n",
    "\n",
    "print(result)"
   ]
  },
  {
   "cell_type": "markdown",
   "metadata": {},
   "source": [
    "# 2.\n",
    "\n",
    "Write `result` from the frist question to a text file with the naming format `[your_name].txt`. Handle exceptions."
   ]
  },
  {
   "cell_type": "code",
   "execution_count": null,
   "metadata": {},
   "outputs": [],
   "source": []
  }
 ],
 "metadata": {
  "kernelspec": {
   "display_name": "Python 3",
   "language": "python",
   "name": "python3"
  },
  "language_info": {
   "codemirror_mode": {
    "name": "ipython",
    "version": 3
   },
   "file_extension": ".py",
   "mimetype": "text/x-python",
   "name": "python",
   "nbconvert_exporter": "python",
   "pygments_lexer": "ipython3",
   "version": "3.9.6"
  },
  "orig_nbformat": 4
 },
 "nbformat": 4,
 "nbformat_minor": 2
}
