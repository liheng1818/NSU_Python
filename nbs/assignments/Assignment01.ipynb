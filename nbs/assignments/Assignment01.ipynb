{
 "cells": [
  {
   "cell_type": "markdown",
   "metadata": {},
   "source": [
    "# Graded Assignment 01\n",
    "\n",
    "Date: 21.09.2023"
   ]
  },
  {
   "cell_type": "markdown",
   "metadata": {},
   "source": [
    "### 1. Use list comprehension to generate a list of squares of numbers **from 1 to 10**. Result must be `[1, 4, 9, 16, 25, 36, 49, 64, 81, 100]`"
   ]
  },
  {
   "cell_type": "code",
   "execution_count": null,
   "metadata": {},
   "outputs": [],
   "source": []
  },
  {
   "cell_type": "markdown",
   "metadata": {},
   "source": [
    "### 2. I have a poem about Python programing, but I accidently duplicated some of its sentences. Remove duplicates from this list and returns a new list without duplication while remaining the original order. The result must be a poem like this;\n",
    "\n",
    "```\n",
    "In the realm of code, Python takes its flight\n",
    "With clean and simple syntax, it's a programmer's delight.\n",
    "From data analysis to web apps so grand,\n",
    "Python's versatility is truly in demand.\n",
    "```"
   ]
  },
  {
   "cell_type": "code",
   "execution_count": null,
   "metadata": {},
   "outputs": [],
   "source": [
    "my_poem = [\n",
    "    \"In the realm of code, Python takes its flight,\",\n",
    "    \"With clean and simple syntax, it's a programmer's delight.\",\n",
    "    \"From data analysis to web apps so grand,\",\n",
    "    \"In the realm of code, Python takes its flight,\",\n",
    "    \"From data analysis to web apps so grand,\",\n",
    "    \"Python's versatility is truly in demand.\",\n",
    "    \"In the realm of code, Python takes its flight,\",\n",
    "]"
   ]
  },
  {
   "cell_type": "markdown",
   "metadata": {},
   "source": [
    "### 3. Anna have a collection of what she wants to buy, but she can only affort certain things. Help her find out what she can get for now. Replace `None` with your code."
   ]
  },
  {
   "cell_type": "code",
   "execution_count": null,
   "metadata": {},
   "outputs": [],
   "source": [
    "what_anna_want = {\"a house\", \"a car\", \"a cat\", \"a laptop\"}\n",
    "what_anna_can_affort = {\"a book\", \"a cup of coffee\", \"a cat\", \"a hat\"}\n",
    "\n",
    "what_anna_will_get = None # YOUR CODE\n",
    "\n",
    "print(\"What Anna will get:\", what_anna_will_get)"
   ]
  }
 ],
 "metadata": {
  "kernelspec": {
   "display_name": "Python 3",
   "language": "python",
   "name": "python3"
  },
  "language_info": {
   "codemirror_mode": {
    "name": "ipython",
    "version": 3
   },
   "file_extension": ".py",
   "mimetype": "text/x-python",
   "name": "python",
   "nbconvert_exporter": "python",
   "pygments_lexer": "ipython3",
   "version": "3.9.6"
  },
  "orig_nbformat": 4
 },
 "nbformat": 4,
 "nbformat_minor": 2
}
